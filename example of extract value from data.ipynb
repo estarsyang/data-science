{
 "cells": [
  {
   "attachments": {},
   "cell_type": "markdown",
   "id": "e6bf2035",
   "metadata": {
    "id": "e6bf2035"
   },
   "source": [
    "\n",
    "\n",
    "# Massive Data Mining and Streaming\n",
    "\n",
    "## Nowadays, tremendous amount of data was generated from many retail stores had driven the adoption of data science and machine learning in mining these important assets of thecompany to help in gaining insights about their existing customers’ behavior or preferences and further help in finding potential new customers. Given an example of online retail dataset that contains all transactions occurring for an online retail. (Ref: https://archive.ics.uci.edu/ml/datasets/Online+Retail+II The main aim is to generate insights from analyzing the data given that can help the retail store in understanding their customers and benefit their business."
   ]
  },
  {
   "attachments": {},
   "cell_type": "markdown",
   "id": "ba3599e0",
   "metadata": {
    "id": "ba3599e0"
   },
   "source": [
    "#### Group Members:\n",
    "<ul>\n",
    "    <li>Cassandra</li>\n",
    "    <li>Suhaida</li>\n",
    "    <li>Huda</li>\n",
    "    <li>Dongdao</li>\n",
    "</ul>\n"
   ]
  },
  {
   "cell_type": "markdown",
   "id": "335058b5",
   "metadata": {
    "id": "335058b5"
   },
   "source": [
    "### Initialization"
   ]
  },
  {
   "cell_type": "markdown",
   "id": "09c0772d",
   "metadata": {
    "id": "09c0772d"
   },
   "source": [
    "#### Import libraries"
   ]
  },
  {
   "cell_type": "code",
   "execution_count": 1,
   "id": "dedb5494",
   "metadata": {
    "id": "dedb5494"
   },
   "outputs": [],
   "source": [
    "# libraries for dataframe and visualization\n",
    "import pandas as pd\n",
    "import numpy as np\n",
    "import matplotlib.pyplot as plt\n",
    "import seaborn as sns\n",
    "import datetime as dt\n",
    "# libraries for clustering\n",
    "import sklearn\n",
    "from sklearn.preprocessing import StandardScaler\n",
    "from sklearn.cluster import KMeans\n",
    "from sklearn.metrics import silhouette_score\n",
    "from scipy.cluster.hierarchy import linkage\n",
    "from scipy.cluster.hierarchy import dendrogram\n",
    "from scipy.cluster.hierarchy import cut_tree"
   ]
  },
  {
   "cell_type": "markdown",
   "id": "c1788400",
   "metadata": {
    "id": "c1788400"
   },
   "source": [
    "#### Load the dataset and save to dataframe"
   ]
  },
  {
   "cell_type": "code",
   "execution_count": 2,
   "id": "5f89c75f",
   "metadata": {
    "id": "5f89c75f",
    "outputId": "2ccdc701-e173-4e78-cf74-8ec8450b1438"
   },
   "outputs": [
    {
     "data": {
      "text/html": [
       "<div>\n",
       "<style scoped>\n",
       "    .dataframe tbody tr th:only-of-type {\n",
       "        vertical-align: middle;\n",
       "    }\n",
       "\n",
       "    .dataframe tbody tr th {\n",
       "        vertical-align: top;\n",
       "    }\n",
       "\n",
       "    .dataframe thead th {\n",
       "        text-align: right;\n",
       "    }\n",
       "</style>\n",
       "<table border=\"1\" class=\"dataframe\">\n",
       "  <thead>\n",
       "    <tr style=\"text-align: right;\">\n",
       "      <th></th>\n",
       "      <th>Invoice</th>\n",
       "      <th>StockCode</th>\n",
       "      <th>Description</th>\n",
       "      <th>Quantity</th>\n",
       "      <th>InvoiceDate</th>\n",
       "      <th>Price</th>\n",
       "      <th>Customer ID</th>\n",
       "      <th>Country</th>\n",
       "    </tr>\n",
       "  </thead>\n",
       "  <tbody>\n",
       "    <tr>\n",
       "      <th>0</th>\n",
       "      <td>489434</td>\n",
       "      <td>85048</td>\n",
       "      <td>15CM CHRISTMAS GLASS BALL 20 LIGHTS</td>\n",
       "      <td>12</td>\n",
       "      <td>2009-12-01 07:45:00</td>\n",
       "      <td>6.95</td>\n",
       "      <td>13085.0</td>\n",
       "      <td>United Kingdom</td>\n",
       "    </tr>\n",
       "    <tr>\n",
       "      <th>1</th>\n",
       "      <td>489434</td>\n",
       "      <td>79323P</td>\n",
       "      <td>PINK CHERRY LIGHTS</td>\n",
       "      <td>12</td>\n",
       "      <td>2009-12-01 07:45:00</td>\n",
       "      <td>6.75</td>\n",
       "      <td>13085.0</td>\n",
       "      <td>United Kingdom</td>\n",
       "    </tr>\n",
       "    <tr>\n",
       "      <th>2</th>\n",
       "      <td>489434</td>\n",
       "      <td>79323W</td>\n",
       "      <td>WHITE CHERRY LIGHTS</td>\n",
       "      <td>12</td>\n",
       "      <td>2009-12-01 07:45:00</td>\n",
       "      <td>6.75</td>\n",
       "      <td>13085.0</td>\n",
       "      <td>United Kingdom</td>\n",
       "    </tr>\n",
       "    <tr>\n",
       "      <th>3</th>\n",
       "      <td>489434</td>\n",
       "      <td>22041</td>\n",
       "      <td>RECORD FRAME 7\" SINGLE SIZE</td>\n",
       "      <td>48</td>\n",
       "      <td>2009-12-01 07:45:00</td>\n",
       "      <td>2.10</td>\n",
       "      <td>13085.0</td>\n",
       "      <td>United Kingdom</td>\n",
       "    </tr>\n",
       "    <tr>\n",
       "      <th>4</th>\n",
       "      <td>489434</td>\n",
       "      <td>21232</td>\n",
       "      <td>STRAWBERRY CERAMIC TRINKET BOX</td>\n",
       "      <td>24</td>\n",
       "      <td>2009-12-01 07:45:00</td>\n",
       "      <td>1.25</td>\n",
       "      <td>13085.0</td>\n",
       "      <td>United Kingdom</td>\n",
       "    </tr>\n",
       "    <tr>\n",
       "      <th>...</th>\n",
       "      <td>...</td>\n",
       "      <td>...</td>\n",
       "      <td>...</td>\n",
       "      <td>...</td>\n",
       "      <td>...</td>\n",
       "      <td>...</td>\n",
       "      <td>...</td>\n",
       "      <td>...</td>\n",
       "    </tr>\n",
       "    <tr>\n",
       "      <th>1067366</th>\n",
       "      <td>581587</td>\n",
       "      <td>22899</td>\n",
       "      <td>CHILDREN'S APRON DOLLY GIRL</td>\n",
       "      <td>6</td>\n",
       "      <td>2011-12-09 12:50:00</td>\n",
       "      <td>2.10</td>\n",
       "      <td>12680.0</td>\n",
       "      <td>France</td>\n",
       "    </tr>\n",
       "    <tr>\n",
       "      <th>1067367</th>\n",
       "      <td>581587</td>\n",
       "      <td>23254</td>\n",
       "      <td>CHILDRENS CUTLERY DOLLY GIRL</td>\n",
       "      <td>4</td>\n",
       "      <td>2011-12-09 12:50:00</td>\n",
       "      <td>4.15</td>\n",
       "      <td>12680.0</td>\n",
       "      <td>France</td>\n",
       "    </tr>\n",
       "    <tr>\n",
       "      <th>1067368</th>\n",
       "      <td>581587</td>\n",
       "      <td>23255</td>\n",
       "      <td>CHILDRENS CUTLERY CIRCUS PARADE</td>\n",
       "      <td>4</td>\n",
       "      <td>2011-12-09 12:50:00</td>\n",
       "      <td>4.15</td>\n",
       "      <td>12680.0</td>\n",
       "      <td>France</td>\n",
       "    </tr>\n",
       "    <tr>\n",
       "      <th>1067369</th>\n",
       "      <td>581587</td>\n",
       "      <td>22138</td>\n",
       "      <td>BAKING SET 9 PIECE RETROSPOT</td>\n",
       "      <td>3</td>\n",
       "      <td>2011-12-09 12:50:00</td>\n",
       "      <td>4.95</td>\n",
       "      <td>12680.0</td>\n",
       "      <td>France</td>\n",
       "    </tr>\n",
       "    <tr>\n",
       "      <th>1067370</th>\n",
       "      <td>581587</td>\n",
       "      <td>POST</td>\n",
       "      <td>POSTAGE</td>\n",
       "      <td>1</td>\n",
       "      <td>2011-12-09 12:50:00</td>\n",
       "      <td>18.00</td>\n",
       "      <td>12680.0</td>\n",
       "      <td>France</td>\n",
       "    </tr>\n",
       "  </tbody>\n",
       "</table>\n",
       "<p>1067371 rows × 8 columns</p>\n",
       "</div>"
      ],
      "text/plain": [
       "        Invoice StockCode                          Description  Quantity  \\\n",
       "0        489434     85048  15CM CHRISTMAS GLASS BALL 20 LIGHTS        12   \n",
       "1        489434    79323P                   PINK CHERRY LIGHTS        12   \n",
       "2        489434    79323W                  WHITE CHERRY LIGHTS        12   \n",
       "3        489434     22041         RECORD FRAME 7\" SINGLE SIZE         48   \n",
       "4        489434     21232       STRAWBERRY CERAMIC TRINKET BOX        24   \n",
       "...         ...       ...                                  ...       ...   \n",
       "1067366  581587     22899         CHILDREN'S APRON DOLLY GIRL          6   \n",
       "1067367  581587     23254        CHILDRENS CUTLERY DOLLY GIRL          4   \n",
       "1067368  581587     23255      CHILDRENS CUTLERY CIRCUS PARADE         4   \n",
       "1067369  581587     22138        BAKING SET 9 PIECE RETROSPOT          3   \n",
       "1067370  581587      POST                              POSTAGE         1   \n",
       "\n",
       "                InvoiceDate  Price  Customer ID         Country  \n",
       "0       2009-12-01 07:45:00   6.95      13085.0  United Kingdom  \n",
       "1       2009-12-01 07:45:00   6.75      13085.0  United Kingdom  \n",
       "2       2009-12-01 07:45:00   6.75      13085.0  United Kingdom  \n",
       "3       2009-12-01 07:45:00   2.10      13085.0  United Kingdom  \n",
       "4       2009-12-01 07:45:00   1.25      13085.0  United Kingdom  \n",
       "...                     ...    ...          ...             ...  \n",
       "1067366 2011-12-09 12:50:00   2.10      12680.0          France  \n",
       "1067367 2011-12-09 12:50:00   4.15      12680.0          France  \n",
       "1067368 2011-12-09 12:50:00   4.15      12680.0          France  \n",
       "1067369 2011-12-09 12:50:00   4.95      12680.0          France  \n",
       "1067370 2011-12-09 12:50:00  18.00      12680.0          France  \n",
       "\n",
       "[1067371 rows x 8 columns]"
      ]
     },
     "execution_count": 2,
     "metadata": {},
     "output_type": "execute_result"
    }
   ],
   "source": [
    "df = pd.concat(pd.read_excel( \"C:/Users/noors/Downloads/online_retail_II.xlsx\", sheet_name=None), ignore_index=True, sort=False)\n",
    "df"
   ]
  },
  {
   "cell_type": "markdown",
   "id": "2b43448f",
   "metadata": {
    "id": "2b43448f"
   },
   "source": [
    "### Exploring the Data"
   ]
  },
  {
   "cell_type": "markdown",
   "id": "6769044e",
   "metadata": {
    "id": "6769044e"
   },
   "source": [
    "#### Total rows and columns"
   ]
  },
  {
   "cell_type": "code",
   "execution_count": 3,
   "id": "408d9005",
   "metadata": {
    "id": "408d9005",
    "outputId": "49d90359-be4c-4f1b-ee17-4cd77fffd229"
   },
   "outputs": [
    {
     "data": {
      "text/plain": [
       "(1067371, 8)"
      ]
     },
     "execution_count": 3,
     "metadata": {},
     "output_type": "execute_result"
    }
   ],
   "source": [
    "df.shape"
   ]
  },
  {
   "cell_type": "markdown",
   "id": "9dff01db",
   "metadata": {
    "id": "9dff01db"
   },
   "source": [
    "#### Data info"
   ]
  },
  {
   "cell_type": "code",
   "execution_count": 4,
   "id": "d67ecaba",
   "metadata": {
    "id": "d67ecaba",
    "outputId": "69c058fb-5e15-4b19-e64d-963efe40f5db"
   },
   "outputs": [
    {
     "name": "stdout",
     "output_type": "stream",
     "text": [
      "<class 'pandas.core.frame.DataFrame'>\n",
      "RangeIndex: 1067371 entries, 0 to 1067370\n",
      "Data columns (total 8 columns):\n",
      " #   Column       Non-Null Count    Dtype         \n",
      "---  ------       --------------    -----         \n",
      " 0   Invoice      1067371 non-null  object        \n",
      " 1   StockCode    1067371 non-null  object        \n",
      " 2   Description  1062989 non-null  object        \n",
      " 3   Quantity     1067371 non-null  int64         \n",
      " 4   InvoiceDate  1067371 non-null  datetime64[ns]\n",
      " 5   Price        1067371 non-null  float64       \n",
      " 6   Customer ID  824364 non-null   float64       \n",
      " 7   Country      1067371 non-null  object        \n",
      "dtypes: datetime64[ns](1), float64(2), int64(1), object(4)\n",
      "memory usage: 65.1+ MB\n"
     ]
    }
   ],
   "source": [
    "df.info()"
   ]
  },
  {
   "cell_type": "markdown",
   "id": "3050f4ee",
   "metadata": {
    "id": "3050f4ee"
   },
   "source": [
    "#### Data type"
   ]
  },
  {
   "cell_type": "code",
   "execution_count": 5,
   "id": "c0b5d881",
   "metadata": {
    "id": "c0b5d881",
    "outputId": "3d9072cc-0304-4d6b-87ce-5db1edb35aa1"
   },
   "outputs": [
    {
     "name": "stdout",
     "output_type": "stream",
     "text": [
      "Invoice                object\n",
      "StockCode              object\n",
      "Description            object\n",
      "Quantity                int64\n",
      "InvoiceDate    datetime64[ns]\n",
      "Price                 float64\n",
      "Customer ID           float64\n",
      "Country                object\n",
      "dtype: object\n"
     ]
    }
   ],
   "source": [
    "print(df.dtypes)"
   ]
  },
  {
   "cell_type": "markdown",
   "id": "09e29c9a",
   "metadata": {
    "id": "09e29c9a"
   },
   "source": [
    "There are three types of data, which are object, float and datetime."
   ]
  },
  {
   "cell_type": "markdown",
   "id": "687bfb12",
   "metadata": {
    "id": "687bfb12"
   },
   "source": [
    "#### Data description"
   ]
  },
  {
   "cell_type": "code",
   "execution_count": 6,
   "id": "d070dbcc",
   "metadata": {
    "id": "d070dbcc",
    "outputId": "5a2dfde7-10ef-41f1-f853-e1f7fad497ba"
   },
   "outputs": [
    {
     "data": {
      "text/html": [
       "<div>\n",
       "<style scoped>\n",
       "    .dataframe tbody tr th:only-of-type {\n",
       "        vertical-align: middle;\n",
       "    }\n",
       "\n",
       "    .dataframe tbody tr th {\n",
       "        vertical-align: top;\n",
       "    }\n",
       "\n",
       "    .dataframe thead th {\n",
       "        text-align: right;\n",
       "    }\n",
       "</style>\n",
       "<table border=\"1\" class=\"dataframe\">\n",
       "  <thead>\n",
       "    <tr style=\"text-align: right;\">\n",
       "      <th></th>\n",
       "      <th>Quantity</th>\n",
       "      <th>Price</th>\n",
       "      <th>Customer ID</th>\n",
       "    </tr>\n",
       "  </thead>\n",
       "  <tbody>\n",
       "    <tr>\n",
       "      <th>count</th>\n",
       "      <td>1.067371e+06</td>\n",
       "      <td>1.067371e+06</td>\n",
       "      <td>824364.000000</td>\n",
       "    </tr>\n",
       "    <tr>\n",
       "      <th>mean</th>\n",
       "      <td>9.938898e+00</td>\n",
       "      <td>4.649388e+00</td>\n",
       "      <td>15324.638504</td>\n",
       "    </tr>\n",
       "    <tr>\n",
       "      <th>std</th>\n",
       "      <td>1.727058e+02</td>\n",
       "      <td>1.235531e+02</td>\n",
       "      <td>1697.464450</td>\n",
       "    </tr>\n",
       "    <tr>\n",
       "      <th>min</th>\n",
       "      <td>-8.099500e+04</td>\n",
       "      <td>-5.359436e+04</td>\n",
       "      <td>12346.000000</td>\n",
       "    </tr>\n",
       "    <tr>\n",
       "      <th>25%</th>\n",
       "      <td>1.000000e+00</td>\n",
       "      <td>1.250000e+00</td>\n",
       "      <td>13975.000000</td>\n",
       "    </tr>\n",
       "    <tr>\n",
       "      <th>50%</th>\n",
       "      <td>3.000000e+00</td>\n",
       "      <td>2.100000e+00</td>\n",
       "      <td>15255.000000</td>\n",
       "    </tr>\n",
       "    <tr>\n",
       "      <th>75%</th>\n",
       "      <td>1.000000e+01</td>\n",
       "      <td>4.150000e+00</td>\n",
       "      <td>16797.000000</td>\n",
       "    </tr>\n",
       "    <tr>\n",
       "      <th>max</th>\n",
       "      <td>8.099500e+04</td>\n",
       "      <td>3.897000e+04</td>\n",
       "      <td>18287.000000</td>\n",
       "    </tr>\n",
       "  </tbody>\n",
       "</table>\n",
       "</div>"
      ],
      "text/plain": [
       "           Quantity         Price    Customer ID\n",
       "count  1.067371e+06  1.067371e+06  824364.000000\n",
       "mean   9.938898e+00  4.649388e+00   15324.638504\n",
       "std    1.727058e+02  1.235531e+02    1697.464450\n",
       "min   -8.099500e+04 -5.359436e+04   12346.000000\n",
       "25%    1.000000e+00  1.250000e+00   13975.000000\n",
       "50%    3.000000e+00  2.100000e+00   15255.000000\n",
       "75%    1.000000e+01  4.150000e+00   16797.000000\n",
       "max    8.099500e+04  3.897000e+04   18287.000000"
      ]
     },
     "execution_count": 6,
     "metadata": {},
     "output_type": "execute_result"
    }
   ],
   "source": [
    "df.describe()"
   ]
  },
  {
   "cell_type": "code",
   "execution_count": 7,
   "id": "07be2c6d",
   "metadata": {
    "id": "07be2c6d",
    "outputId": "8c508d0b-9ea5-4f1c-befb-0d5d9c05f4d8"
   },
   "outputs": [
    {
     "data": {
      "text/html": [
       "<div>\n",
       "<style scoped>\n",
       "    .dataframe tbody tr th:only-of-type {\n",
       "        vertical-align: middle;\n",
       "    }\n",
       "\n",
       "    .dataframe tbody tr th {\n",
       "        vertical-align: top;\n",
       "    }\n",
       "\n",
       "    .dataframe thead th {\n",
       "        text-align: right;\n",
       "    }\n",
       "</style>\n",
       "<table border=\"1\" class=\"dataframe\">\n",
       "  <thead>\n",
       "    <tr style=\"text-align: right;\">\n",
       "      <th></th>\n",
       "      <th>Invoice</th>\n",
       "      <th>StockCode</th>\n",
       "      <th>Description</th>\n",
       "      <th>Country</th>\n",
       "    </tr>\n",
       "  </thead>\n",
       "  <tbody>\n",
       "    <tr>\n",
       "      <th>count</th>\n",
       "      <td>1067371</td>\n",
       "      <td>1067371</td>\n",
       "      <td>1062989</td>\n",
       "      <td>1067371</td>\n",
       "    </tr>\n",
       "    <tr>\n",
       "      <th>unique</th>\n",
       "      <td>53628</td>\n",
       "      <td>5305</td>\n",
       "      <td>5698</td>\n",
       "      <td>43</td>\n",
       "    </tr>\n",
       "    <tr>\n",
       "      <th>top</th>\n",
       "      <td>537434</td>\n",
       "      <td>85123A</td>\n",
       "      <td>WHITE HANGING HEART T-LIGHT HOLDER</td>\n",
       "      <td>United Kingdom</td>\n",
       "    </tr>\n",
       "    <tr>\n",
       "      <th>freq</th>\n",
       "      <td>1350</td>\n",
       "      <td>5829</td>\n",
       "      <td>5918</td>\n",
       "      <td>981330</td>\n",
       "    </tr>\n",
       "  </tbody>\n",
       "</table>\n",
       "</div>"
      ],
      "text/plain": [
       "        Invoice StockCode                         Description         Country\n",
       "count   1067371   1067371                             1062989         1067371\n",
       "unique    53628      5305                                5698              43\n",
       "top      537434    85123A  WHITE HANGING HEART T-LIGHT HOLDER  United Kingdom\n",
       "freq       1350      5829                                5918          981330"
      ]
     },
     "execution_count": 7,
     "metadata": {},
     "output_type": "execute_result"
    }
   ],
   "source": [
    "df.describe(include = 'object')"
   ]
  },
  {
   "cell_type": "markdown",
   "id": "0a98d707",
   "metadata": {
    "id": "0a98d707"
   },
   "source": [
    "### Data Cleansing"
   ]
  },
  {
   "cell_type": "markdown",
   "id": "d9e7fc87",
   "metadata": {
    "id": "d9e7fc87"
   },
   "source": [
    "#### Dealing with the NULL values"
   ]
  },
  {
   "cell_type": "code",
   "execution_count": 8,
   "id": "b0f77b64",
   "metadata": {
    "id": "b0f77b64",
    "outputId": "208e049e-0ce1-4c4f-c159-689148ce81b3"
   },
   "outputs": [
    {
     "data": {
      "text/plain": [
       "Invoice             0\n",
       "StockCode           0\n",
       "Description      4382\n",
       "Quantity            0\n",
       "InvoiceDate         0\n",
       "Price               0\n",
       "Customer ID    243007\n",
       "Country             0\n",
       "dtype: int64"
      ]
     },
     "execution_count": 8,
     "metadata": {},
     "output_type": "execute_result"
    }
   ],
   "source": [
    "df.isnull().sum()"
   ]
  },
  {
   "cell_type": "markdown",
   "id": "2d7464b1",
   "metadata": {
    "id": "2d7464b1"
   },
   "source": [
    "The data contains some missing values in the columns of description and customer ID. The null values will be omitted from the data in this study"
   ]
  },
  {
   "cell_type": "code",
   "execution_count": 9,
   "id": "4b481037",
   "metadata": {
    "id": "4b481037",
    "outputId": "459e1cb7-3270-490a-ce75-78a0681c1e59"
   },
   "outputs": [
    {
     "data": {
      "text/plain": [
       "Invoice        0\n",
       "StockCode      0\n",
       "Description    0\n",
       "Quantity       0\n",
       "InvoiceDate    0\n",
       "Price          0\n",
       "Customer ID    0\n",
       "Country        0\n",
       "dtype: int64"
      ]
     },
     "execution_count": 9,
     "metadata": {},
     "output_type": "execute_result"
    }
   ],
   "source": [
    "df.dropna(inplace=True)\n",
    "df.isnull().sum()"
   ]
  },
  {
   "cell_type": "markdown",
   "id": "b0ec29a8",
   "metadata": {
    "id": "b0ec29a8"
   },
   "source": [
    "As it shown, the data is now cleaned and has no missing values. Thus, it can be proceeded in the next stage"
   ]
  },
  {
   "cell_type": "markdown",
   "id": "2de4f6a6",
   "metadata": {
    "id": "2de4f6a6"
   },
   "source": [
    "### Data Preparation"
   ]
  },
  {
   "cell_type": "markdown",
   "id": "45af63e9",
   "metadata": {
    "id": "45af63e9"
   },
   "source": [
    "#### Generating new column: Amount"
   ]
  },
  {
   "cell_type": "code",
   "execution_count": 10,
   "id": "1fb76b6a",
   "metadata": {
    "id": "1fb76b6a",
    "outputId": "d7cb3cb8-82ef-4f99-873f-5599ce23646a"
   },
   "outputs": [
    {
     "data": {
      "text/html": [
       "<div>\n",
       "<style scoped>\n",
       "    .dataframe tbody tr th:only-of-type {\n",
       "        vertical-align: middle;\n",
       "    }\n",
       "\n",
       "    .dataframe tbody tr th {\n",
       "        vertical-align: top;\n",
       "    }\n",
       "\n",
       "    .dataframe thead th {\n",
       "        text-align: right;\n",
       "    }\n",
       "</style>\n",
       "<table border=\"1\" class=\"dataframe\">\n",
       "  <thead>\n",
       "    <tr style=\"text-align: right;\">\n",
       "      <th></th>\n",
       "      <th>Invoice</th>\n",
       "      <th>StockCode</th>\n",
       "      <th>Description</th>\n",
       "      <th>Quantity</th>\n",
       "      <th>InvoiceDate</th>\n",
       "      <th>Price</th>\n",
       "      <th>Customer ID</th>\n",
       "      <th>Country</th>\n",
       "      <th>Amount</th>\n",
       "    </tr>\n",
       "  </thead>\n",
       "  <tbody>\n",
       "    <tr>\n",
       "      <th>0</th>\n",
       "      <td>489434</td>\n",
       "      <td>85048</td>\n",
       "      <td>15CM CHRISTMAS GLASS BALL 20 LIGHTS</td>\n",
       "      <td>12</td>\n",
       "      <td>2009-12-01 07:45:00</td>\n",
       "      <td>6.95</td>\n",
       "      <td>13085.0</td>\n",
       "      <td>United Kingdom</td>\n",
       "      <td>83.40</td>\n",
       "    </tr>\n",
       "    <tr>\n",
       "      <th>1</th>\n",
       "      <td>489434</td>\n",
       "      <td>79323P</td>\n",
       "      <td>PINK CHERRY LIGHTS</td>\n",
       "      <td>12</td>\n",
       "      <td>2009-12-01 07:45:00</td>\n",
       "      <td>6.75</td>\n",
       "      <td>13085.0</td>\n",
       "      <td>United Kingdom</td>\n",
       "      <td>81.00</td>\n",
       "    </tr>\n",
       "    <tr>\n",
       "      <th>2</th>\n",
       "      <td>489434</td>\n",
       "      <td>79323W</td>\n",
       "      <td>WHITE CHERRY LIGHTS</td>\n",
       "      <td>12</td>\n",
       "      <td>2009-12-01 07:45:00</td>\n",
       "      <td>6.75</td>\n",
       "      <td>13085.0</td>\n",
       "      <td>United Kingdom</td>\n",
       "      <td>81.00</td>\n",
       "    </tr>\n",
       "    <tr>\n",
       "      <th>3</th>\n",
       "      <td>489434</td>\n",
       "      <td>22041</td>\n",
       "      <td>RECORD FRAME 7\" SINGLE SIZE</td>\n",
       "      <td>48</td>\n",
       "      <td>2009-12-01 07:45:00</td>\n",
       "      <td>2.10</td>\n",
       "      <td>13085.0</td>\n",
       "      <td>United Kingdom</td>\n",
       "      <td>100.80</td>\n",
       "    </tr>\n",
       "    <tr>\n",
       "      <th>4</th>\n",
       "      <td>489434</td>\n",
       "      <td>21232</td>\n",
       "      <td>STRAWBERRY CERAMIC TRINKET BOX</td>\n",
       "      <td>24</td>\n",
       "      <td>2009-12-01 07:45:00</td>\n",
       "      <td>1.25</td>\n",
       "      <td>13085.0</td>\n",
       "      <td>United Kingdom</td>\n",
       "      <td>30.00</td>\n",
       "    </tr>\n",
       "    <tr>\n",
       "      <th>...</th>\n",
       "      <td>...</td>\n",
       "      <td>...</td>\n",
       "      <td>...</td>\n",
       "      <td>...</td>\n",
       "      <td>...</td>\n",
       "      <td>...</td>\n",
       "      <td>...</td>\n",
       "      <td>...</td>\n",
       "      <td>...</td>\n",
       "    </tr>\n",
       "    <tr>\n",
       "      <th>1067366</th>\n",
       "      <td>581587</td>\n",
       "      <td>22899</td>\n",
       "      <td>CHILDREN'S APRON DOLLY GIRL</td>\n",
       "      <td>6</td>\n",
       "      <td>2011-12-09 12:50:00</td>\n",
       "      <td>2.10</td>\n",
       "      <td>12680.0</td>\n",
       "      <td>France</td>\n",
       "      <td>12.60</td>\n",
       "    </tr>\n",
       "    <tr>\n",
       "      <th>1067367</th>\n",
       "      <td>581587</td>\n",
       "      <td>23254</td>\n",
       "      <td>CHILDRENS CUTLERY DOLLY GIRL</td>\n",
       "      <td>4</td>\n",
       "      <td>2011-12-09 12:50:00</td>\n",
       "      <td>4.15</td>\n",
       "      <td>12680.0</td>\n",
       "      <td>France</td>\n",
       "      <td>16.60</td>\n",
       "    </tr>\n",
       "    <tr>\n",
       "      <th>1067368</th>\n",
       "      <td>581587</td>\n",
       "      <td>23255</td>\n",
       "      <td>CHILDRENS CUTLERY CIRCUS PARADE</td>\n",
       "      <td>4</td>\n",
       "      <td>2011-12-09 12:50:00</td>\n",
       "      <td>4.15</td>\n",
       "      <td>12680.0</td>\n",
       "      <td>France</td>\n",
       "      <td>16.60</td>\n",
       "    </tr>\n",
       "    <tr>\n",
       "      <th>1067369</th>\n",
       "      <td>581587</td>\n",
       "      <td>22138</td>\n",
       "      <td>BAKING SET 9 PIECE RETROSPOT</td>\n",
       "      <td>3</td>\n",
       "      <td>2011-12-09 12:50:00</td>\n",
       "      <td>4.95</td>\n",
       "      <td>12680.0</td>\n",
       "      <td>France</td>\n",
       "      <td>14.85</td>\n",
       "    </tr>\n",
       "    <tr>\n",
       "      <th>1067370</th>\n",
       "      <td>581587</td>\n",
       "      <td>POST</td>\n",
       "      <td>POSTAGE</td>\n",
       "      <td>1</td>\n",
       "      <td>2011-12-09 12:50:00</td>\n",
       "      <td>18.00</td>\n",
       "      <td>12680.0</td>\n",
       "      <td>France</td>\n",
       "      <td>18.00</td>\n",
       "    </tr>\n",
       "  </tbody>\n",
       "</table>\n",
       "<p>824364 rows × 9 columns</p>\n",
       "</div>"
      ],
      "text/plain": [
       "        Invoice StockCode                          Description  Quantity  \\\n",
       "0        489434     85048  15CM CHRISTMAS GLASS BALL 20 LIGHTS        12   \n",
       "1        489434    79323P                   PINK CHERRY LIGHTS        12   \n",
       "2        489434    79323W                  WHITE CHERRY LIGHTS        12   \n",
       "3        489434     22041         RECORD FRAME 7\" SINGLE SIZE         48   \n",
       "4        489434     21232       STRAWBERRY CERAMIC TRINKET BOX        24   \n",
       "...         ...       ...                                  ...       ...   \n",
       "1067366  581587     22899         CHILDREN'S APRON DOLLY GIRL          6   \n",
       "1067367  581587     23254        CHILDRENS CUTLERY DOLLY GIRL          4   \n",
       "1067368  581587     23255      CHILDRENS CUTLERY CIRCUS PARADE         4   \n",
       "1067369  581587     22138        BAKING SET 9 PIECE RETROSPOT          3   \n",
       "1067370  581587      POST                              POSTAGE         1   \n",
       "\n",
       "                InvoiceDate  Price  Customer ID         Country  Amount  \n",
       "0       2009-12-01 07:45:00   6.95      13085.0  United Kingdom   83.40  \n",
       "1       2009-12-01 07:45:00   6.75      13085.0  United Kingdom   81.00  \n",
       "2       2009-12-01 07:45:00   6.75      13085.0  United Kingdom   81.00  \n",
       "3       2009-12-01 07:45:00   2.10      13085.0  United Kingdom  100.80  \n",
       "4       2009-12-01 07:45:00   1.25      13085.0  United Kingdom   30.00  \n",
       "...                     ...    ...          ...             ...     ...  \n",
       "1067366 2011-12-09 12:50:00   2.10      12680.0          France   12.60  \n",
       "1067367 2011-12-09 12:50:00   4.15      12680.0          France   16.60  \n",
       "1067368 2011-12-09 12:50:00   4.15      12680.0          France   16.60  \n",
       "1067369 2011-12-09 12:50:00   4.95      12680.0          France   14.85  \n",
       "1067370 2011-12-09 12:50:00  18.00      12680.0          France   18.00  \n",
       "\n",
       "[824364 rows x 9 columns]"
      ]
     },
     "execution_count": 10,
     "metadata": {},
     "output_type": "execute_result"
    }
   ],
   "source": [
    "df['Amount'] = df['Quantity']*df['Price']\n",
    "df"
   ]
  },
  {
   "cell_type": "markdown",
   "id": "0eeb4e13",
   "metadata": {
    "id": "0eeb4e13"
   },
   "source": [
    "#### Creating new dataframe"
   ]
  },
  {
   "cell_type": "markdown",
   "id": "34881c1e",
   "metadata": {
    "id": "34881c1e"
   },
   "source": [
    "cust_details dataframe will have each distinct customer with total amount of money they have spent."
   ]
  },
  {
   "cell_type": "code",
   "execution_count": 11,
   "id": "8aa56dbe",
   "metadata": {
    "id": "8aa56dbe",
    "outputId": "29397ce4-71da-457b-a912-ed02317fa0fd"
   },
   "outputs": [
    {
     "data": {
      "text/html": [
       "<div>\n",
       "<style scoped>\n",
       "    .dataframe tbody tr th:only-of-type {\n",
       "        vertical-align: middle;\n",
       "    }\n",
       "\n",
       "    .dataframe tbody tr th {\n",
       "        vertical-align: top;\n",
       "    }\n",
       "\n",
       "    .dataframe thead th {\n",
       "        text-align: right;\n",
       "    }\n",
       "</style>\n",
       "<table border=\"1\" class=\"dataframe\">\n",
       "  <thead>\n",
       "    <tr style=\"text-align: right;\">\n",
       "      <th></th>\n",
       "      <th>Customer ID</th>\n",
       "      <th>Amount</th>\n",
       "    </tr>\n",
       "  </thead>\n",
       "  <tbody>\n",
       "    <tr>\n",
       "      <th>0</th>\n",
       "      <td>12346.0</td>\n",
       "      <td>-64.68</td>\n",
       "    </tr>\n",
       "    <tr>\n",
       "      <th>1</th>\n",
       "      <td>12347.0</td>\n",
       "      <td>5633.32</td>\n",
       "    </tr>\n",
       "    <tr>\n",
       "      <th>2</th>\n",
       "      <td>12348.0</td>\n",
       "      <td>2019.40</td>\n",
       "    </tr>\n",
       "    <tr>\n",
       "      <th>3</th>\n",
       "      <td>12349.0</td>\n",
       "      <td>4404.54</td>\n",
       "    </tr>\n",
       "    <tr>\n",
       "      <th>4</th>\n",
       "      <td>12350.0</td>\n",
       "      <td>334.40</td>\n",
       "    </tr>\n",
       "    <tr>\n",
       "      <th>...</th>\n",
       "      <td>...</td>\n",
       "      <td>...</td>\n",
       "    </tr>\n",
       "    <tr>\n",
       "      <th>5937</th>\n",
       "      <td>18283.0</td>\n",
       "      <td>2736.65</td>\n",
       "    </tr>\n",
       "    <tr>\n",
       "      <th>5938</th>\n",
       "      <td>18284.0</td>\n",
       "      <td>436.68</td>\n",
       "    </tr>\n",
       "    <tr>\n",
       "      <th>5939</th>\n",
       "      <td>18285.0</td>\n",
       "      <td>427.00</td>\n",
       "    </tr>\n",
       "    <tr>\n",
       "      <th>5940</th>\n",
       "      <td>18286.0</td>\n",
       "      <td>1188.43</td>\n",
       "    </tr>\n",
       "    <tr>\n",
       "      <th>5941</th>\n",
       "      <td>18287.0</td>\n",
       "      <td>4177.89</td>\n",
       "    </tr>\n",
       "  </tbody>\n",
       "</table>\n",
       "<p>5942 rows × 2 columns</p>\n",
       "</div>"
      ],
      "text/plain": [
       "      Customer ID   Amount\n",
       "0         12346.0   -64.68\n",
       "1         12347.0  5633.32\n",
       "2         12348.0  2019.40\n",
       "3         12349.0  4404.54\n",
       "4         12350.0   334.40\n",
       "...           ...      ...\n",
       "5937      18283.0  2736.65\n",
       "5938      18284.0   436.68\n",
       "5939      18285.0   427.00\n",
       "5940      18286.0  1188.43\n",
       "5941      18287.0  4177.89\n",
       "\n",
       "[5942 rows x 2 columns]"
      ]
     },
     "execution_count": 11,
     "metadata": {},
     "output_type": "execute_result"
    }
   ],
   "source": [
    "cust_details = df.groupby('Customer ID')['Amount'].sum()\n",
    "cust_details = cust_details.reset_index()\n",
    "cust_details"
   ]
  },
  {
   "cell_type": "markdown",
   "id": "a8235a70",
   "metadata": {
    "id": "a8235a70"
   },
   "source": [
    "cust_details2 dataframe will have each distinct customer with total transaction they have done."
   ]
  },
  {
   "cell_type": "code",
   "execution_count": 12,
   "id": "494eb3ab",
   "metadata": {
    "id": "494eb3ab",
    "outputId": "fe79fa50-a755-4215-c3c2-88a29e2d87a5"
   },
   "outputs": [
    {
     "data": {
      "text/html": [
       "<div>\n",
       "<style scoped>\n",
       "    .dataframe tbody tr th:only-of-type {\n",
       "        vertical-align: middle;\n",
       "    }\n",
       "\n",
       "    .dataframe tbody tr th {\n",
       "        vertical-align: top;\n",
       "    }\n",
       "\n",
       "    .dataframe thead th {\n",
       "        text-align: right;\n",
       "    }\n",
       "</style>\n",
       "<table border=\"1\" class=\"dataframe\">\n",
       "  <thead>\n",
       "    <tr style=\"text-align: right;\">\n",
       "      <th></th>\n",
       "      <th>Customer ID</th>\n",
       "      <th>Frequency</th>\n",
       "    </tr>\n",
       "  </thead>\n",
       "  <tbody>\n",
       "    <tr>\n",
       "      <th>0</th>\n",
       "      <td>12346.0</td>\n",
       "      <td>48</td>\n",
       "    </tr>\n",
       "    <tr>\n",
       "      <th>1</th>\n",
       "      <td>12347.0</td>\n",
       "      <td>253</td>\n",
       "    </tr>\n",
       "    <tr>\n",
       "      <th>2</th>\n",
       "      <td>12348.0</td>\n",
       "      <td>51</td>\n",
       "    </tr>\n",
       "    <tr>\n",
       "      <th>3</th>\n",
       "      <td>12349.0</td>\n",
       "      <td>180</td>\n",
       "    </tr>\n",
       "    <tr>\n",
       "      <th>4</th>\n",
       "      <td>12350.0</td>\n",
       "      <td>17</td>\n",
       "    </tr>\n",
       "    <tr>\n",
       "      <th>...</th>\n",
       "      <td>...</td>\n",
       "      <td>...</td>\n",
       "    </tr>\n",
       "    <tr>\n",
       "      <th>5937</th>\n",
       "      <td>18283.0</td>\n",
       "      <td>986</td>\n",
       "    </tr>\n",
       "    <tr>\n",
       "      <th>5938</th>\n",
       "      <td>18284.0</td>\n",
       "      <td>29</td>\n",
       "    </tr>\n",
       "    <tr>\n",
       "      <th>5939</th>\n",
       "      <td>18285.0</td>\n",
       "      <td>12</td>\n",
       "    </tr>\n",
       "    <tr>\n",
       "      <th>5940</th>\n",
       "      <td>18286.0</td>\n",
       "      <td>70</td>\n",
       "    </tr>\n",
       "    <tr>\n",
       "      <th>5941</th>\n",
       "      <td>18287.0</td>\n",
       "      <td>156</td>\n",
       "    </tr>\n",
       "  </tbody>\n",
       "</table>\n",
       "<p>5942 rows × 2 columns</p>\n",
       "</div>"
      ],
      "text/plain": [
       "      Customer ID  Frequency\n",
       "0         12346.0         48\n",
       "1         12347.0        253\n",
       "2         12348.0         51\n",
       "3         12349.0        180\n",
       "4         12350.0         17\n",
       "...           ...        ...\n",
       "5937      18283.0        986\n",
       "5938      18284.0         29\n",
       "5939      18285.0         12\n",
       "5940      18286.0         70\n",
       "5941      18287.0        156\n",
       "\n",
       "[5942 rows x 2 columns]"
      ]
     },
     "execution_count": 12,
     "metadata": {},
     "output_type": "execute_result"
    }
   ],
   "source": [
    "cust_details2 = df.groupby('Customer ID')['Invoice'].count()\n",
    "cust_details2 = cust_details2.reset_index()\n",
    "cust_details2.columns = ['Customer ID', 'Frequency']\n",
    "cust_details2"
   ]
  },
  {
   "cell_type": "markdown",
   "id": "647d1b24",
   "metadata": {
    "id": "647d1b24"
   },
   "source": [
    "cust_details3 dataframe will have each distinct customer with the last time the transaction they made"
   ]
  },
  {
   "cell_type": "code",
   "execution_count": 13,
   "id": "e1e753ed",
   "metadata": {
    "id": "e1e753ed",
    "outputId": "4217bab8-22f1-4070-cd9a-97c64317c561"
   },
   "outputs": [
    {
     "data": {
      "text/plain": [
       "Timestamp('2011-12-09 12:50:00')"
      ]
     },
     "execution_count": 13,
     "metadata": {},
     "output_type": "execute_result"
    }
   ],
   "source": [
    "max_date=max(df['InvoiceDate'])\n",
    "max_date"
   ]
  },
  {
   "cell_type": "code",
   "execution_count": 14,
   "id": "56dbb85d",
   "metadata": {
    "id": "56dbb85d",
    "outputId": "8615e2f4-d6f0-4094-a00f-995eb1f246ca"
   },
   "outputs": [
    {
     "data": {
      "text/html": [
       "<div>\n",
       "<style scoped>\n",
       "    .dataframe tbody tr th:only-of-type {\n",
       "        vertical-align: middle;\n",
       "    }\n",
       "\n",
       "    .dataframe tbody tr th {\n",
       "        vertical-align: top;\n",
       "    }\n",
       "\n",
       "    .dataframe thead th {\n",
       "        text-align: right;\n",
       "    }\n",
       "</style>\n",
       "<table border=\"1\" class=\"dataframe\">\n",
       "  <thead>\n",
       "    <tr style=\"text-align: right;\">\n",
       "      <th></th>\n",
       "      <th>Invoice</th>\n",
       "      <th>StockCode</th>\n",
       "      <th>Description</th>\n",
       "      <th>Quantity</th>\n",
       "      <th>InvoiceDate</th>\n",
       "      <th>Price</th>\n",
       "      <th>Customer ID</th>\n",
       "      <th>Country</th>\n",
       "      <th>Amount</th>\n",
       "      <th>Last Transaction</th>\n",
       "    </tr>\n",
       "  </thead>\n",
       "  <tbody>\n",
       "    <tr>\n",
       "      <th>0</th>\n",
       "      <td>489434</td>\n",
       "      <td>85048</td>\n",
       "      <td>15CM CHRISTMAS GLASS BALL 20 LIGHTS</td>\n",
       "      <td>12</td>\n",
       "      <td>2009-12-01 07:45:00</td>\n",
       "      <td>6.95</td>\n",
       "      <td>13085.0</td>\n",
       "      <td>United Kingdom</td>\n",
       "      <td>83.40</td>\n",
       "      <td>738 days 05:05:00</td>\n",
       "    </tr>\n",
       "    <tr>\n",
       "      <th>1</th>\n",
       "      <td>489434</td>\n",
       "      <td>79323P</td>\n",
       "      <td>PINK CHERRY LIGHTS</td>\n",
       "      <td>12</td>\n",
       "      <td>2009-12-01 07:45:00</td>\n",
       "      <td>6.75</td>\n",
       "      <td>13085.0</td>\n",
       "      <td>United Kingdom</td>\n",
       "      <td>81.00</td>\n",
       "      <td>738 days 05:05:00</td>\n",
       "    </tr>\n",
       "    <tr>\n",
       "      <th>2</th>\n",
       "      <td>489434</td>\n",
       "      <td>79323W</td>\n",
       "      <td>WHITE CHERRY LIGHTS</td>\n",
       "      <td>12</td>\n",
       "      <td>2009-12-01 07:45:00</td>\n",
       "      <td>6.75</td>\n",
       "      <td>13085.0</td>\n",
       "      <td>United Kingdom</td>\n",
       "      <td>81.00</td>\n",
       "      <td>738 days 05:05:00</td>\n",
       "    </tr>\n",
       "    <tr>\n",
       "      <th>3</th>\n",
       "      <td>489434</td>\n",
       "      <td>22041</td>\n",
       "      <td>RECORD FRAME 7\" SINGLE SIZE</td>\n",
       "      <td>48</td>\n",
       "      <td>2009-12-01 07:45:00</td>\n",
       "      <td>2.10</td>\n",
       "      <td>13085.0</td>\n",
       "      <td>United Kingdom</td>\n",
       "      <td>100.80</td>\n",
       "      <td>738 days 05:05:00</td>\n",
       "    </tr>\n",
       "    <tr>\n",
       "      <th>4</th>\n",
       "      <td>489434</td>\n",
       "      <td>21232</td>\n",
       "      <td>STRAWBERRY CERAMIC TRINKET BOX</td>\n",
       "      <td>24</td>\n",
       "      <td>2009-12-01 07:45:00</td>\n",
       "      <td>1.25</td>\n",
       "      <td>13085.0</td>\n",
       "      <td>United Kingdom</td>\n",
       "      <td>30.00</td>\n",
       "      <td>738 days 05:05:00</td>\n",
       "    </tr>\n",
       "    <tr>\n",
       "      <th>...</th>\n",
       "      <td>...</td>\n",
       "      <td>...</td>\n",
       "      <td>...</td>\n",
       "      <td>...</td>\n",
       "      <td>...</td>\n",
       "      <td>...</td>\n",
       "      <td>...</td>\n",
       "      <td>...</td>\n",
       "      <td>...</td>\n",
       "      <td>...</td>\n",
       "    </tr>\n",
       "    <tr>\n",
       "      <th>1067366</th>\n",
       "      <td>581587</td>\n",
       "      <td>22899</td>\n",
       "      <td>CHILDREN'S APRON DOLLY GIRL</td>\n",
       "      <td>6</td>\n",
       "      <td>2011-12-09 12:50:00</td>\n",
       "      <td>2.10</td>\n",
       "      <td>12680.0</td>\n",
       "      <td>France</td>\n",
       "      <td>12.60</td>\n",
       "      <td>0 days 00:00:00</td>\n",
       "    </tr>\n",
       "    <tr>\n",
       "      <th>1067367</th>\n",
       "      <td>581587</td>\n",
       "      <td>23254</td>\n",
       "      <td>CHILDRENS CUTLERY DOLLY GIRL</td>\n",
       "      <td>4</td>\n",
       "      <td>2011-12-09 12:50:00</td>\n",
       "      <td>4.15</td>\n",
       "      <td>12680.0</td>\n",
       "      <td>France</td>\n",
       "      <td>16.60</td>\n",
       "      <td>0 days 00:00:00</td>\n",
       "    </tr>\n",
       "    <tr>\n",
       "      <th>1067368</th>\n",
       "      <td>581587</td>\n",
       "      <td>23255</td>\n",
       "      <td>CHILDRENS CUTLERY CIRCUS PARADE</td>\n",
       "      <td>4</td>\n",
       "      <td>2011-12-09 12:50:00</td>\n",
       "      <td>4.15</td>\n",
       "      <td>12680.0</td>\n",
       "      <td>France</td>\n",
       "      <td>16.60</td>\n",
       "      <td>0 days 00:00:00</td>\n",
       "    </tr>\n",
       "    <tr>\n",
       "      <th>1067369</th>\n",
       "      <td>581587</td>\n",
       "      <td>22138</td>\n",
       "      <td>BAKING SET 9 PIECE RETROSPOT</td>\n",
       "      <td>3</td>\n",
       "      <td>2011-12-09 12:50:00</td>\n",
       "      <td>4.95</td>\n",
       "      <td>12680.0</td>\n",
       "      <td>France</td>\n",
       "      <td>14.85</td>\n",
       "      <td>0 days 00:00:00</td>\n",
       "    </tr>\n",
       "    <tr>\n",
       "      <th>1067370</th>\n",
       "      <td>581587</td>\n",
       "      <td>POST</td>\n",
       "      <td>POSTAGE</td>\n",
       "      <td>1</td>\n",
       "      <td>2011-12-09 12:50:00</td>\n",
       "      <td>18.00</td>\n",
       "      <td>12680.0</td>\n",
       "      <td>France</td>\n",
       "      <td>18.00</td>\n",
       "      <td>0 days 00:00:00</td>\n",
       "    </tr>\n",
       "  </tbody>\n",
       "</table>\n",
       "<p>824364 rows × 10 columns</p>\n",
       "</div>"
      ],
      "text/plain": [
       "        Invoice StockCode                          Description  Quantity  \\\n",
       "0        489434     85048  15CM CHRISTMAS GLASS BALL 20 LIGHTS        12   \n",
       "1        489434    79323P                   PINK CHERRY LIGHTS        12   \n",
       "2        489434    79323W                  WHITE CHERRY LIGHTS        12   \n",
       "3        489434     22041         RECORD FRAME 7\" SINGLE SIZE         48   \n",
       "4        489434     21232       STRAWBERRY CERAMIC TRINKET BOX        24   \n",
       "...         ...       ...                                  ...       ...   \n",
       "1067366  581587     22899         CHILDREN'S APRON DOLLY GIRL          6   \n",
       "1067367  581587     23254        CHILDRENS CUTLERY DOLLY GIRL          4   \n",
       "1067368  581587     23255      CHILDRENS CUTLERY CIRCUS PARADE         4   \n",
       "1067369  581587     22138        BAKING SET 9 PIECE RETROSPOT          3   \n",
       "1067370  581587      POST                              POSTAGE         1   \n",
       "\n",
       "                InvoiceDate  Price  Customer ID         Country  Amount  \\\n",
       "0       2009-12-01 07:45:00   6.95      13085.0  United Kingdom   83.40   \n",
       "1       2009-12-01 07:45:00   6.75      13085.0  United Kingdom   81.00   \n",
       "2       2009-12-01 07:45:00   6.75      13085.0  United Kingdom   81.00   \n",
       "3       2009-12-01 07:45:00   2.10      13085.0  United Kingdom  100.80   \n",
       "4       2009-12-01 07:45:00   1.25      13085.0  United Kingdom   30.00   \n",
       "...                     ...    ...          ...             ...     ...   \n",
       "1067366 2011-12-09 12:50:00   2.10      12680.0          France   12.60   \n",
       "1067367 2011-12-09 12:50:00   4.15      12680.0          France   16.60   \n",
       "1067368 2011-12-09 12:50:00   4.15      12680.0          France   16.60   \n",
       "1067369 2011-12-09 12:50:00   4.95      12680.0          France   14.85   \n",
       "1067370 2011-12-09 12:50:00  18.00      12680.0          France   18.00   \n",
       "\n",
       "         Last Transaction  \n",
       "0       738 days 05:05:00  \n",
       "1       738 days 05:05:00  \n",
       "2       738 days 05:05:00  \n",
       "3       738 days 05:05:00  \n",
       "4       738 days 05:05:00  \n",
       "...                   ...  \n",
       "1067366   0 days 00:00:00  \n",
       "1067367   0 days 00:00:00  \n",
       "1067368   0 days 00:00:00  \n",
       "1067369   0 days 00:00:00  \n",
       "1067370   0 days 00:00:00  \n",
       "\n",
       "[824364 rows x 10 columns]"
      ]
     },
     "execution_count": 14,
     "metadata": {},
     "output_type": "execute_result"
    }
   ],
   "source": [
    "df['Last Transaction']=max_date-df['InvoiceDate']\n",
    "df"
   ]
  },
  {
   "cell_type": "code",
   "execution_count": 15,
   "id": "958018a9",
   "metadata": {
    "id": "958018a9",
    "outputId": "f7c9e0e3-5980-4bed-9dd9-9768ac0c2906"
   },
   "outputs": [
    {
     "data": {
      "text/html": [
       "<div>\n",
       "<style scoped>\n",
       "    .dataframe tbody tr th:only-of-type {\n",
       "        vertical-align: middle;\n",
       "    }\n",
       "\n",
       "    .dataframe tbody tr th {\n",
       "        vertical-align: top;\n",
       "    }\n",
       "\n",
       "    .dataframe thead th {\n",
       "        text-align: right;\n",
       "    }\n",
       "</style>\n",
       "<table border=\"1\" class=\"dataframe\">\n",
       "  <thead>\n",
       "    <tr style=\"text-align: right;\">\n",
       "      <th></th>\n",
       "      <th>Customer ID</th>\n",
       "      <th>Last Transaction</th>\n",
       "    </tr>\n",
       "  </thead>\n",
       "  <tbody>\n",
       "    <tr>\n",
       "      <th>0</th>\n",
       "      <td>12346.0</td>\n",
       "      <td>325 days 02:33:00</td>\n",
       "    </tr>\n",
       "    <tr>\n",
       "      <th>1</th>\n",
       "      <td>12347.0</td>\n",
       "      <td>1 days 20:58:00</td>\n",
       "    </tr>\n",
       "    <tr>\n",
       "      <th>2</th>\n",
       "      <td>12348.0</td>\n",
       "      <td>74 days 23:37:00</td>\n",
       "    </tr>\n",
       "    <tr>\n",
       "      <th>3</th>\n",
       "      <td>12349.0</td>\n",
       "      <td>18 days 02:59:00</td>\n",
       "    </tr>\n",
       "    <tr>\n",
       "      <th>4</th>\n",
       "      <td>12350.0</td>\n",
       "      <td>309 days 20:49:00</td>\n",
       "    </tr>\n",
       "  </tbody>\n",
       "</table>\n",
       "</div>"
      ],
      "text/plain": [
       "   Customer ID  Last Transaction\n",
       "0      12346.0 325 days 02:33:00\n",
       "1      12347.0   1 days 20:58:00\n",
       "2      12348.0  74 days 23:37:00\n",
       "3      12349.0  18 days 02:59:00\n",
       "4      12350.0 309 days 20:49:00"
      ]
     },
     "execution_count": 15,
     "metadata": {},
     "output_type": "execute_result"
    }
   ],
   "source": [
    "# Compute last transaction date to get the recency of customers\n",
    "\n",
    "cust_details3 = df.groupby('Customer ID')['Last Transaction'].min()\n",
    "cust_details3 = cust_details3.reset_index()\n",
    "cust_details3.head()"
   ]
  },
  {
   "cell_type": "code",
   "execution_count": 16,
   "id": "3c32db90",
   "metadata": {
    "id": "3c32db90",
    "outputId": "30463cdb-755a-4912-ee46-c600b95493c6"
   },
   "outputs": [
    {
     "data": {
      "text/html": [
       "<div>\n",
       "<style scoped>\n",
       "    .dataframe tbody tr th:only-of-type {\n",
       "        vertical-align: middle;\n",
       "    }\n",
       "\n",
       "    .dataframe tbody tr th {\n",
       "        vertical-align: top;\n",
       "    }\n",
       "\n",
       "    .dataframe thead th {\n",
       "        text-align: right;\n",
       "    }\n",
       "</style>\n",
       "<table border=\"1\" class=\"dataframe\">\n",
       "  <thead>\n",
       "    <tr style=\"text-align: right;\">\n",
       "      <th></th>\n",
       "      <th>Customer ID</th>\n",
       "      <th>Last Transaction</th>\n",
       "    </tr>\n",
       "  </thead>\n",
       "  <tbody>\n",
       "    <tr>\n",
       "      <th>0</th>\n",
       "      <td>12346.0</td>\n",
       "      <td>325</td>\n",
       "    </tr>\n",
       "    <tr>\n",
       "      <th>1</th>\n",
       "      <td>12347.0</td>\n",
       "      <td>1</td>\n",
       "    </tr>\n",
       "    <tr>\n",
       "      <th>2</th>\n",
       "      <td>12348.0</td>\n",
       "      <td>74</td>\n",
       "    </tr>\n",
       "    <tr>\n",
       "      <th>3</th>\n",
       "      <td>12349.0</td>\n",
       "      <td>18</td>\n",
       "    </tr>\n",
       "    <tr>\n",
       "      <th>4</th>\n",
       "      <td>12350.0</td>\n",
       "      <td>309</td>\n",
       "    </tr>\n",
       "  </tbody>\n",
       "</table>\n",
       "</div>"
      ],
      "text/plain": [
       "   Customer ID  Last Transaction\n",
       "0      12346.0               325\n",
       "1      12347.0                 1\n",
       "2      12348.0                74\n",
       "3      12349.0                18\n",
       "4      12350.0               309"
      ]
     },
     "execution_count": 16,
     "metadata": {},
     "output_type": "execute_result"
    }
   ],
   "source": [
    "cust_details3['Last Transaction'] = cust_details3['Last Transaction'].dt.days\n",
    "cust_details3.head()"
   ]
  },
  {
   "cell_type": "markdown",
   "id": "e4291f21",
   "metadata": {
    "id": "e4291f21"
   },
   "source": [
    "#### Merging all the cust_detail dataframes"
   ]
  },
  {
   "cell_type": "code",
   "execution_count": 17,
   "id": "c413cf07",
   "metadata": {
    "id": "c413cf07"
   },
   "outputs": [],
   "source": [
    "cust_details = pd.merge(cust_details, cust_details2, on='Customer ID', how='inner')\n",
    "cust_details = pd.merge(cust_details, cust_details3, on='Customer ID', how='inner')"
   ]
  },
  {
   "cell_type": "code",
   "execution_count": 18,
   "id": "d9aed027",
   "metadata": {
    "id": "d9aed027",
    "outputId": "b0258940-1fb7-4631-d2b4-acca875bde3e",
    "scrolled": true
   },
   "outputs": [
    {
     "data": {
      "text/html": [
       "<div>\n",
       "<style scoped>\n",
       "    .dataframe tbody tr th:only-of-type {\n",
       "        vertical-align: middle;\n",
       "    }\n",
       "\n",
       "    .dataframe tbody tr th {\n",
       "        vertical-align: top;\n",
       "    }\n",
       "\n",
       "    .dataframe thead th {\n",
       "        text-align: right;\n",
       "    }\n",
       "</style>\n",
       "<table border=\"1\" class=\"dataframe\">\n",
       "  <thead>\n",
       "    <tr style=\"text-align: right;\">\n",
       "      <th></th>\n",
       "      <th>Customer ID</th>\n",
       "      <th>Amount</th>\n",
       "      <th>Frequency</th>\n",
       "      <th>Last Transaction</th>\n",
       "    </tr>\n",
       "  </thead>\n",
       "  <tbody>\n",
       "    <tr>\n",
       "      <th>0</th>\n",
       "      <td>12346.0</td>\n",
       "      <td>-64.68</td>\n",
       "      <td>48</td>\n",
       "      <td>325</td>\n",
       "    </tr>\n",
       "    <tr>\n",
       "      <th>1</th>\n",
       "      <td>12347.0</td>\n",
       "      <td>5633.32</td>\n",
       "      <td>253</td>\n",
       "      <td>1</td>\n",
       "    </tr>\n",
       "    <tr>\n",
       "      <th>2</th>\n",
       "      <td>12348.0</td>\n",
       "      <td>2019.40</td>\n",
       "      <td>51</td>\n",
       "      <td>74</td>\n",
       "    </tr>\n",
       "    <tr>\n",
       "      <th>3</th>\n",
       "      <td>12349.0</td>\n",
       "      <td>4404.54</td>\n",
       "      <td>180</td>\n",
       "      <td>18</td>\n",
       "    </tr>\n",
       "    <tr>\n",
       "      <th>4</th>\n",
       "      <td>12350.0</td>\n",
       "      <td>334.40</td>\n",
       "      <td>17</td>\n",
       "      <td>309</td>\n",
       "    </tr>\n",
       "    <tr>\n",
       "      <th>...</th>\n",
       "      <td>...</td>\n",
       "      <td>...</td>\n",
       "      <td>...</td>\n",
       "      <td>...</td>\n",
       "    </tr>\n",
       "    <tr>\n",
       "      <th>5937</th>\n",
       "      <td>18283.0</td>\n",
       "      <td>2736.65</td>\n",
       "      <td>986</td>\n",
       "      <td>3</td>\n",
       "    </tr>\n",
       "    <tr>\n",
       "      <th>5938</th>\n",
       "      <td>18284.0</td>\n",
       "      <td>436.68</td>\n",
       "      <td>29</td>\n",
       "      <td>429</td>\n",
       "    </tr>\n",
       "    <tr>\n",
       "      <th>5939</th>\n",
       "      <td>18285.0</td>\n",
       "      <td>427.00</td>\n",
       "      <td>12</td>\n",
       "      <td>660</td>\n",
       "    </tr>\n",
       "    <tr>\n",
       "      <th>5940</th>\n",
       "      <td>18286.0</td>\n",
       "      <td>1188.43</td>\n",
       "      <td>70</td>\n",
       "      <td>476</td>\n",
       "    </tr>\n",
       "    <tr>\n",
       "      <th>5941</th>\n",
       "      <td>18287.0</td>\n",
       "      <td>4177.89</td>\n",
       "      <td>156</td>\n",
       "      <td>42</td>\n",
       "    </tr>\n",
       "  </tbody>\n",
       "</table>\n",
       "<p>5942 rows × 4 columns</p>\n",
       "</div>"
      ],
      "text/plain": [
       "      Customer ID   Amount  Frequency  Last Transaction\n",
       "0         12346.0   -64.68         48               325\n",
       "1         12347.0  5633.32        253                 1\n",
       "2         12348.0  2019.40         51                74\n",
       "3         12349.0  4404.54        180                18\n",
       "4         12350.0   334.40         17               309\n",
       "...           ...      ...        ...               ...\n",
       "5937      18283.0  2736.65        986                 3\n",
       "5938      18284.0   436.68         29               429\n",
       "5939      18285.0   427.00         12               660\n",
       "5940      18286.0  1188.43         70               476\n",
       "5941      18287.0  4177.89        156                42\n",
       "\n",
       "[5942 rows x 4 columns]"
      ]
     },
     "execution_count": 18,
     "metadata": {},
     "output_type": "execute_result"
    }
   ],
   "source": [
    "cust_details"
   ]
  },
  {
   "cell_type": "markdown",
   "id": "d10e513e",
   "metadata": {
    "id": "d10e513e"
   },
   "source": [
    "#### Treating outliers"
   ]
  },
  {
   "cell_type": "markdown",
   "id": "732b5471",
   "metadata": {
    "id": "732b5471"
   },
   "source": [
    "Displaying the outliers over all the variable"
   ]
  },
  {
   "cell_type": "code",
   "execution_count": 19,
   "id": "950ca3ce",
   "metadata": {
    "id": "950ca3ce",
    "outputId": "5971a15a-e044-4190-b736-131d8f40e883"
   },
   "outputs": [
    {
     "data": {
      "text/plain": [
       "Text(0.5, 0, 'Attributes')"
      ]
     },
     "execution_count": 19,
     "metadata": {},
     "output_type": "execute_result"
    },
    {
     "data": {
      "image/png": "[encoded data removed]",
      "text/plain": [
       "<Figure size 720x576 with 1 Axes>"
      ]
     },
     "metadata": {
      "needs_background": "light"
     },
     "output_type": "display_data"
    }
   ],
   "source": [
    "attributes = ['Amount','Frequency','Last Transaction']\n",
    "plt.rcParams['figure.figsize'] = [10,8]\n",
    "sns.boxplot(data = cust_details[attributes], orient=\"v\", palette=\"Set2\" ,whis=1.5,saturation=1, width=0.7)\n",
    "plt.title(\"Outliers Variable Distribution\", fontsize = 14, fontweight = 'bold')\n",
    "plt.ylabel(\"Range\", fontweight = 'bold')\n",
    "plt.xlabel(\"Attributes\", fontweight = 'bold')"
   ]
  },
  {
   "cell_type": "code",
   "execution_count": 20,
   "id": "6a8b1e9c",
   "metadata": {
    "id": "6a8b1e9c"
   },
   "outputs": [],
   "source": [
    "# Removing outliers for Amount\n",
    "Q1 = cust_details['Amount'].quantile(0.05)\n",
    "Q3 = cust_details['Amount'].quantile(0.95)\n",
    "IQR = Q3 - Q1\n",
    "cust_details = cust_details[(cust_details['Amount'] >= Q1 - 1.5*IQR) & (cust_details['Amount'] <= Q3 + 1.5*IQR)]\n",
    "\n",
    "# Removing outliers for Recency\n",
    "Q1 = cust_details['Last Transaction'].quantile(0.05)\n",
    "Q3 = cust_details['Last Transaction'].quantile(0.95)\n",
    "IQR = Q3 - Q1\n",
    "cust_details = cust_details[(cust_details['Last Transaction'] >= Q1 - 1.5*IQR) & (cust_details['Last Transaction'] <= Q3 + 1.5*IQR)]\n",
    "\n",
    "# Removing outliers for Frequency\n",
    "Q1 = cust_details['Frequency'].quantile(0.05)\n",
    "Q3 = cust_details['Frequency'].quantile(0.95)\n",
    "IQR = Q3 - Q1\n",
    "cust_details = cust_details[(cust_details['Frequency'] >= Q1 - 1.5*IQR) & (cust_details['Frequency'] <= Q3 + 1.5*IQR)]"
   ]
  },
  {
   "cell_type": "code",
   "execution_count": 21,
   "id": "304372be",
   "metadata": {
    "id": "304372be",
    "outputId": "12688b4d-536a-4da4-a80b-e3a11b4ad790"
   },
   "outputs": [
    {
     "data": {
      "text/html": [
       "<div>\n",
       "<style scoped>\n",
       "    .dataframe tbody tr th:only-of-type {\n",
       "        vertical-align: middle;\n",
       "    }\n",
       "\n",
       "    .dataframe tbody tr th {\n",
       "        vertical-align: top;\n",
       "    }\n",
       "\n",
       "    .dataframe thead th {\n",
       "        text-align: right;\n",
       "    }\n",
       "</style>\n",
       "<table border=\"1\" class=\"dataframe\">\n",
       "  <thead>\n",
       "    <tr style=\"text-align: right;\">\n",
       "      <th></th>\n",
       "      <th>Customer ID</th>\n",
       "      <th>Amount</th>\n",
       "      <th>Frequency</th>\n",
       "      <th>Last Transaction</th>\n",
       "    </tr>\n",
       "  </thead>\n",
       "  <tbody>\n",
       "    <tr>\n",
       "      <th>0</th>\n",
       "      <td>12346.0</td>\n",
       "      <td>-64.68</td>\n",
       "      <td>48</td>\n",
       "      <td>325</td>\n",
       "    </tr>\n",
       "    <tr>\n",
       "      <th>1</th>\n",
       "      <td>12347.0</td>\n",
       "      <td>5633.32</td>\n",
       "      <td>253</td>\n",
       "      <td>1</td>\n",
       "    </tr>\n",
       "    <tr>\n",
       "      <th>2</th>\n",
       "      <td>12348.0</td>\n",
       "      <td>2019.40</td>\n",
       "      <td>51</td>\n",
       "      <td>74</td>\n",
       "    </tr>\n",
       "    <tr>\n",
       "      <th>3</th>\n",
       "      <td>12349.0</td>\n",
       "      <td>4404.54</td>\n",
       "      <td>180</td>\n",
       "      <td>18</td>\n",
       "    </tr>\n",
       "    <tr>\n",
       "      <th>4</th>\n",
       "      <td>12350.0</td>\n",
       "      <td>334.40</td>\n",
       "      <td>17</td>\n",
       "      <td>309</td>\n",
       "    </tr>\n",
       "    <tr>\n",
       "      <th>...</th>\n",
       "      <td>...</td>\n",
       "      <td>...</td>\n",
       "      <td>...</td>\n",
       "      <td>...</td>\n",
       "    </tr>\n",
       "    <tr>\n",
       "      <th>5937</th>\n",
       "      <td>18283.0</td>\n",
       "      <td>2736.65</td>\n",
       "      <td>986</td>\n",
       "      <td>3</td>\n",
       "    </tr>\n",
       "    <tr>\n",
       "      <th>5938</th>\n",
       "      <td>18284.0</td>\n",
       "      <td>436.68</td>\n",
       "      <td>29</td>\n",
       "      <td>429</td>\n",
       "    </tr>\n",
       "    <tr>\n",
       "      <th>5939</th>\n",
       "      <td>18285.0</td>\n",
       "      <td>427.00</td>\n",
       "      <td>12</td>\n",
       "      <td>660</td>\n",
       "    </tr>\n",
       "    <tr>\n",
       "      <th>5940</th>\n",
       "      <td>18286.0</td>\n",
       "      <td>1188.43</td>\n",
       "      <td>70</td>\n",
       "      <td>476</td>\n",
       "    </tr>\n",
       "    <tr>\n",
       "      <th>5941</th>\n",
       "      <td>18287.0</td>\n",
       "      <td>4177.89</td>\n",
       "      <td>156</td>\n",
       "      <td>42</td>\n",
       "    </tr>\n",
       "  </tbody>\n",
       "</table>\n",
       "<p>5831 rows × 4 columns</p>\n",
       "</div>"
      ],
      "text/plain": [
       "      Customer ID   Amount  Frequency  Last Transaction\n",
       "0         12346.0   -64.68         48               325\n",
       "1         12347.0  5633.32        253                 1\n",
       "2         12348.0  2019.40         51                74\n",
       "3         12349.0  4404.54        180                18\n",
       "4         12350.0   334.40         17               309\n",
       "...           ...      ...        ...               ...\n",
       "5937      18283.0  2736.65        986                 3\n",
       "5938      18284.0   436.68         29               429\n",
       "5939      18285.0   427.00         12               660\n",
       "5940      18286.0  1188.43         70               476\n",
       "5941      18287.0  4177.89        156                42\n",
       "\n",
       "[5831 rows x 4 columns]"
      ]
     },
     "execution_count": 21,
     "metadata": {},
     "output_type": "execute_result"
    }
   ],
   "source": [
    "cust_details"
   ]
  },
  {
   "cell_type": "markdown",
   "id": "03fd70f2",
   "metadata": {
    "id": "03fd70f2"
   },
   "source": [
    "#### Scaling the attributes"
   ]
  },
  {
   "cell_type": "code",
   "execution_count": 22,
   "id": "d2ca637d",
   "metadata": {
    "id": "d2ca637d"
   },
   "outputs": [],
   "source": [
    "scaler = StandardScaler()"
   ]
  },
  {
   "cell_type": "code",
   "execution_count": 23,
   "id": "f170f952",
   "metadata": {
    "id": "f170f952"
   },
   "outputs": [],
   "source": [
    "scaled = scaler.fit_transform(cust_details[['Amount', 'Frequency', 'Last Transaction']])"
   ]
  },
  {
   "cell_type": "code",
   "execution_count": 24,
   "id": "09073cb9",
   "metadata": {
    "id": "09073cb9"
   },
   "outputs": [],
   "source": [
    "scaled = pd.DataFrame(scaled)"
   ]
  },
  {
   "cell_type": "code",
   "execution_count": 25,
   "id": "8536ac0b",
   "metadata": {
    "id": "8536ac0b"
   },
   "outputs": [],
   "source": [
    "scaled.columns = ['Amount', 'Frequency', 'Last Transaction']"
   ]
  },
  {
   "cell_type": "code",
   "execution_count": 26,
   "id": "05772342",
   "metadata": {
    "id": "05772342",
    "outputId": "bca96040-8b3f-419a-e260-f80be80931b3"
   },
   "outputs": [
    {
     "data": {
      "text/html": [
       "<div>\n",
       "<style scoped>\n",
       "    .dataframe tbody tr th:only-of-type {\n",
       "        vertical-align: middle;\n",
       "    }\n",
       "\n",
       "    .dataframe tbody tr th {\n",
       "        vertical-align: top;\n",
       "    }\n",
       "\n",
       "    .dataframe thead th {\n",
       "        text-align: right;\n",
       "    }\n",
       "</style>\n",
       "<table border=\"1\" class=\"dataframe\">\n",
       "  <thead>\n",
       "    <tr style=\"text-align: right;\">\n",
       "      <th></th>\n",
       "      <th>Amount</th>\n",
       "      <th>Frequency</th>\n",
       "      <th>Last Transaction</th>\n",
       "    </tr>\n",
       "  </thead>\n",
       "  <tbody>\n",
       "    <tr>\n",
       "      <th>0</th>\n",
       "      <td>-0.668571</td>\n",
       "      <td>-0.407287</td>\n",
       "      <td>0.565006</td>\n",
       "    </tr>\n",
       "    <tr>\n",
       "      <th>1</th>\n",
       "      <td>1.346911</td>\n",
       "      <td>0.887540</td>\n",
       "      <td>-0.962200</td>\n",
       "    </tr>\n",
       "    <tr>\n",
       "      <th>2</th>\n",
       "      <td>0.068605</td>\n",
       "      <td>-0.388338</td>\n",
       "      <td>-0.618107</td>\n",
       "    </tr>\n",
       "    <tr>\n",
       "      <th>3</th>\n",
       "      <td>0.912270</td>\n",
       "      <td>0.426455</td>\n",
       "      <td>-0.882069</td>\n",
       "    </tr>\n",
       "    <tr>\n",
       "      <th>4</th>\n",
       "      <td>-0.527409</td>\n",
       "      <td>-0.603090</td>\n",
       "      <td>0.489589</td>\n",
       "    </tr>\n",
       "    <tr>\n",
       "      <th>...</th>\n",
       "      <td>...</td>\n",
       "      <td>...</td>\n",
       "      <td>...</td>\n",
       "    </tr>\n",
       "    <tr>\n",
       "      <th>5826</th>\n",
       "      <td>0.322309</td>\n",
       "      <td>5.517335</td>\n",
       "      <td>-0.952773</td>\n",
       "    </tr>\n",
       "    <tr>\n",
       "      <th>5827</th>\n",
       "      <td>-0.491231</td>\n",
       "      <td>-0.527295</td>\n",
       "      <td>1.055221</td>\n",
       "    </tr>\n",
       "    <tr>\n",
       "      <th>5828</th>\n",
       "      <td>-0.494655</td>\n",
       "      <td>-0.634671</td>\n",
       "      <td>2.144062</td>\n",
       "    </tr>\n",
       "    <tr>\n",
       "      <th>5829</th>\n",
       "      <td>-0.225324</td>\n",
       "      <td>-0.268330</td>\n",
       "      <td>1.276760</td>\n",
       "    </tr>\n",
       "    <tr>\n",
       "      <th>5830</th>\n",
       "      <td>0.832100</td>\n",
       "      <td>0.274866</td>\n",
       "      <td>-0.768943</td>\n",
       "    </tr>\n",
       "  </tbody>\n",
       "</table>\n",
       "<p>5831 rows × 3 columns</p>\n",
       "</div>"
      ],
      "text/plain": [
       "        Amount  Frequency  Last Transaction\n",
       "0    -0.668571  -0.407287          0.565006\n",
       "1     1.346911   0.887540         -0.962200\n",
       "2     0.068605  -0.388338         -0.618107\n",
       "3     0.912270   0.426455         -0.882069\n",
       "4    -0.527409  -0.603090          0.489589\n",
       "...        ...        ...               ...\n",
       "5826  0.322309   5.517335         -0.952773\n",
       "5827 -0.491231  -0.527295          1.055221\n",
       "5828 -0.494655  -0.634671          2.144062\n",
       "5829 -0.225324  -0.268330          1.276760\n",
       "5830  0.832100   0.274866         -0.768943\n",
       "\n",
       "[5831 rows x 3 columns]"
      ]
     },
     "execution_count": 26,
     "metadata": {},
     "output_type": "execute_result"
    }
   ],
   "source": [
    "scaled"
   ]
  },
  {
   "cell_type": "markdown",
   "id": "412b0f01",
   "metadata": {
    "id": "412b0f01"
   },
   "source": [
    "### Model Development"
   ]
  },
  {
   "cell_type": "markdown",
   "id": "e42894a8",
   "metadata": {
    "id": "e42894a8"
   },
   "source": [
    "#### Elbow Method"
   ]
  },
  {
   "cell_type": "markdown",
   "id": "d1aa58f1",
   "metadata": {
    "id": "d1aa58f1"
   },
   "source": [
    "<ul>\n",
    "    <li>Elbow graph helps in selecting the optimal number of clusters by fitting the model with a range of values for K </li> <p>\n",
    "    <li>If the line chart resembles an arm, then the “elbow” (the point of inflection on the curve) is a good indication that the underlying model fits best at that point.  </li>\n",
    "</ul>"
   ]
  },
  {
   "cell_type": "code",
   "execution_count": 27,
   "id": "c43d326a",
   "metadata": {
    "id": "c43d326a",
    "outputId": "13dc9ea2-ee01-497e-f3dd-5dbf7999cb55"
   },
   "outputs": [
    {
     "name": "stdout",
     "output_type": "stream",
     "text": [
      "Initialization complete\n",
      "Iteration 0, inertia 14999.600965996813\n",
      "Iteration 1, inertia 11264.327260879974\n",
      "Iteration 2, inertia 10621.597542366919\n",
      "Iteration 3, inertia 10403.82052435208\n",
      "Iteration 4, inertia 10314.177400792936\n",
      "Iteration 5, inertia 10270.676372049373\n",
      "Iteration 6, inertia 10250.621932998358\n",
      "Iteration 7, inertia 10242.545186917401\n",
      "Iteration 8, inertia 10239.110060633933\n",
      "Iteration 9, inertia 10238.23456607242\n",
      "Converged at iteration 9: center shift 7.012010760842852e-05 within tolerance 0.00010000000000000052.\n",
      "Initialization complete\n",
      "Iteration 0, inertia 21340.636547953483\n",
      "Iteration 1, inertia 10767.752882100258\n",
      "Iteration 2, inertia 10504.567892990175\n",
      "Iteration 3, inertia 10356.808092460424\n",
      "Iteration 4, inertia 10280.893940805625\n",
      "Iteration 5, inertia 10256.729839878397\n",
      "Iteration 6, inertia 10248.181900857397\n",
      "Iteration 7, inertia 10243.536624043849\n",
      "Iteration 8, inertia 10241.2775617897\n",
      "Iteration 9, inertia 10240.305253649536\n",
      "Iteration 10, inertia 10239.54354910462\n",
      "Iteration 11, inertia 10238.8375911244\n",
      "Iteration 12, inertia 10238.284837800953\n",
      "Iteration 13, inertia 10237.96196951474\n",
      "Converged at iteration 13: center shift 6.373574695493772e-05 within tolerance 0.00010000000000000052.\n",
      "Initialization complete\n",
      "Iteration 0, inertia 15841.975299408508\n",
      "Iteration 1, inertia 10346.617952067538\n",
      "Iteration 2, inertia 10267.638889426968\n",
      "Iteration 3, inertia 10249.269907969541\n",
      "Iteration 4, inertia 10241.67660589101\n",
      "Iteration 5, inertia 10239.01127298061\n",
      "Iteration 6, inertia 10238.206309532048\n",
      "Converged at iteration 6: center shift 3.986903946101176e-05 within tolerance 0.00010000000000000052.\n",
      "Initialization complete\n",
      "Iteration 0, inertia 12774.722777528146\n",
      "Iteration 1, inertia 10675.757459163091\n",
      "Iteration 2, inertia 10450.083635674531\n",
      "Iteration 3, inertia 10334.982830241273\n",
      "Iteration 4, inertia 10280.935415075299\n",
      "Iteration 5, inertia 10255.031973444637\n",
      "Iteration 6, inertia 10243.748104752454\n",
      "Iteration 7, inertia 10239.815612929939\n",
      "Iteration 8, inertia 10238.312769102318\n",
      "Iteration 9, inertia 10238.165627735314\n",
      "Converged at iteration 9: center shift 1.762382276271611e-05 within tolerance 0.00010000000000000052.\n",
      "Initialization complete\n",
      "Iteration 0, inertia 14850.294835440769\n",
      "Iteration 1, inertia 10414.741972129998\n",
      "Iteration 2, inertia 10316.511577045972\n",
      "Iteration 3, inertia 10272.661811045551\n",
      "Iteration 4, inertia 10252.087716351152\n",
      "Iteration 5, inertia 10243.37175838859\n",
      "Iteration 6, inertia 10239.569097959293\n",
      "Iteration 7, inertia 10238.312769102318\n",
      "Iteration 8, inertia 10238.165627735314\n",
      "Converged at iteration 8: center shift 1.7623822762710562e-05 within tolerance 0.00010000000000000052.\n",
      "Initialization complete\n",
      "Iteration 0, inertia 15722.671148932463\n",
      "Iteration 1, inertia 11459.587806636038\n",
      "Iteration 2, inertia 11427.970134964467\n",
      "Iteration 3, inertia 11421.65164689412\n",
      "Iteration 4, inertia 11419.799620440594\n",
      "Iteration 5, inertia 11419.315994073317\n",
      "Converged at iteration 5: center shift 2.6802234827515884e-05 within tolerance 0.00010000000000000052.\n",
      "Initialization complete\n",
      "Iteration 0, inertia 15210.09589932154\n",
      "Iteration 1, inertia 11642.232546116029\n",
      "Iteration 2, inertia 11471.03102492172\n",
      "Iteration 3, inertia 11432.90716379148\n",
      "Iteration 4, inertia 11423.098999801428\n",
      "Iteration 5, inertia 11420.025628372527\n",
      "Iteration 6, inertia 11419.448179719924\n",
      "Converged at iteration 6: center shift 3.777641530855562e-05 within tolerance 0.00010000000000000052.\n",
      "Initialization complete\n",
      "Iteration 0, inertia 13521.466338018943\n",
      "Iteration 1, inertia 11447.109031721528\n",
      "Iteration 2, inertia 11426.525351453172\n",
      "Iteration 3, inertia 11421.212219917257\n",
      "Iteration 4, inertia 11419.761763098455\n",
      "Iteration 5, inertia 11419.315994073319\n",
      "Converged at iteration 5: center shift 2.6802234827517466e-05 within tolerance 0.00010000000000000052.\n",
      "Initialization complete\n",
      "Iteration 0, inertia 16914.782332451512\n",
      "Iteration 1, inertia 10296.740648378578\n",
      "Iteration 2, inertia 10254.475510676755\n",
      "Iteration 3, inertia 10246.89331256988\n",
      "Iteration 4, inertia 10242.758242550106\n",
      "Iteration 5, inertia 10240.912772607824\n",
      "Iteration 6, inertia 10240.006258301422\n",
      "Iteration 7, inertia 10239.19166740636\n",
      "Iteration 8, inertia 10238.544466085372\n",
      "Iteration 9, inertia 10238.018100209492\n",
      "Converged at iteration 9: center shift 9.086227853600823e-05 within tolerance 0.00010000000000000052.\n",
      "Initialization complete\n",
      "Iteration 0, inertia 15459.010337730948\n",
      "Iteration 1, inertia 11535.720334946187\n",
      "Iteration 2, inertia 11448.205616456506\n",
      "Iteration 3, inertia 11426.982273321824\n",
      "Iteration 4, inertia 11421.48837585902\n",
      "Iteration 5, inertia 11419.799620440594\n",
      "Iteration 6, inertia 11419.315994073319\n",
      "Converged at iteration 6: center shift 2.6802234827512502e-05 within tolerance 0.00010000000000000052.\n",
      "Initialization complete\n",
      "Iteration 0, inertia 10131.261709495464\n",
      "Iteration 1, inertia 6004.282992230917\n",
      "Iteration 2, inertia 5895.35290742722\n",
      "Iteration 3, inertia 5871.614492654871\n",
      "Iteration 4, inertia 5860.3561517363905\n",
      "Iteration 5, inertia 5856.57720083137\n",
      "Iteration 6, inertia 5855.563892452668\n",
      "Iteration 7, inertia 5855.277160340325\n",
      "Iteration 8, inertia 5855.146053963741\n",
      "Converged at iteration 8: center shift 3.500145183694699e-05 within tolerance 0.00010000000000000052.\n",
      "Initialization complete\n",
      "Iteration 0, inertia 8460.981649045192\n",
      "Iteration 1, inertia 6577.86908210866\n",
      "Iteration 2, inertia 5983.4302451061985\n",
      "Iteration 3, inertia 5890.910349373289\n",
      "Iteration 4, inertia 5868.906005764011\n",
      "Iteration 5, inertia 5858.877499806207\n",
      "Iteration 6, inertia 5856.397712272307\n",
      "Iteration 7, inertia 5855.518295375905\n",
      "Iteration 8, inertia 5855.280145230468\n",
      "Iteration 9, inertia 5855.146053963741\n",
      "Converged at iteration 9: center shift 3.500145183695169e-05 within tolerance 0.00010000000000000052.\n",
      "Initialization complete\n",
      "Iteration 0, inertia 9547.173034357074\n",
      "Iteration 1, inertia 5918.388975441718\n",
      "Iteration 2, inertia 5856.136317067451\n",
      "Iteration 3, inertia 5854.787420246996\n",
      "Iteration 4, inertia 5854.549552894422\n",
      "Converged at iteration 4: center shift 2.443092981507754e-05 within tolerance 0.00010000000000000052.\n",
      "Initialization complete\n",
      "Iteration 0, inertia 8165.484258703959\n",
      "Iteration 1, inertia 6148.656685444938\n",
      "Iteration 2, inertia 5956.7474795018215\n",
      "Iteration 3, inertia 5899.7817285854635\n",
      "Iteration 4, inertia 5873.314308967845\n",
      "Iteration 5, inertia 5861.832350113261\n",
      "Iteration 6, inertia 5856.876784587502\n",
      "Iteration 7, inertia 5855.694908274202\n",
      "Iteration 8, inertia 5855.334090386793\n",
      "Iteration 9, inertia 5855.146053963741\n",
      "Converged at iteration 9: center shift 3.5001451836947095e-05 within tolerance 0.00010000000000000052.\n",
      "Initialization complete\n",
      "Iteration 0, inertia 9620.289862399704\n",
      "Iteration 1, inertia 6009.90941104979\n",
      "Iteration 2, inertia 5864.536982287085\n",
      "Iteration 3, inertia 5857.09305703475\n",
      "Iteration 4, inertia 5855.84767892579\n",
      "Iteration 5, inertia 5855.26249019671\n",
      "Iteration 6, inertia 5855.132192231005\n",
      "Converged at iteration 6: center shift 1.5113426068787694e-05 within tolerance 0.00010000000000000052.\n",
      "Initialization complete\n",
      "Iteration 0, inertia 9234.102681953531\n",
      "Iteration 1, inertia 6793.4087985692095\n",
      "Iteration 2, inertia 6151.734055607465\n",
      "Iteration 3, inertia 5966.936039002743\n",
      "Iteration 4, inertia 5905.150216346711\n",
      "Iteration 5, inertia 5876.911293158843\n",
      "Iteration 6, inertia 5863.057013695252\n",
      "Iteration 7, inertia 5857.428840357584\n",
      "Iteration 8, inertia 5855.7811684923745\n",
      "Iteration 9, inertia 5855.393581205053\n",
      "Iteration 10, inertia 5855.146053963741\n",
      "Converged at iteration 10: center shift 3.5001451836949867e-05 within tolerance 0.00010000000000000052.\n",
      "Initialization complete\n",
      "Iteration 0, inertia 6888.061366771311\n",
      "Iteration 1, inertia 5935.278826411442\n",
      "Iteration 2, inertia 5892.702363105054\n",
      "Iteration 3, inertia 5871.496344114721\n",
      "Iteration 4, inertia 5860.272353458146\n",
      "Iteration 5, inertia 5856.762280673632\n",
      "Iteration 6, inertia 5855.623877383856\n",
      "Iteration 7, inertia 5855.2801452304675\n",
      "Iteration 8, inertia 5855.146053963741\n",
      "Converged at iteration 8: center shift 3.500145183694711e-05 within tolerance 0.00010000000000000052.\n",
      "Initialization complete\n",
      "Iteration 0, inertia 8598.620410470947\n",
      "Iteration 1, inertia 6096.821394599484\n",
      "Iteration 2, inertia 5956.0346924382975\n",
      "Iteration 3, inertia 5907.290865628924\n",
      "Iteration 4, inertia 5887.557796745059\n",
      "Iteration 5, inertia 5869.464345955353\n",
      "Iteration 6, inertia 5859.348867202455\n",
      "Iteration 7, inertia 5855.507785804154\n",
      "Iteration 8, inertia 5854.847130543695\n",
      "Iteration 9, inertia 5854.6313534364\n",
      "Iteration 10, inertia 5854.5045882884615\n",
      "Converged at iteration 10: center shift 1.2691557902632933e-05 within tolerance 0.00010000000000000052.\n",
      "Initialization complete\n",
      "Iteration 0, inertia 8603.041479184558\n",
      "Iteration 1, inertia 7915.988618694674\n",
      "Iteration 2, inertia 7780.609267231434\n",
      "Iteration 3, inertia 7508.902934375319\n",
      "Iteration 4, inertia 6770.227250141295\n",
      "Iteration 5, inertia 6098.958903733473\n",
      "Iteration 6, inertia 5939.96462466907\n",
      "Iteration 7, inertia 5899.406684728092\n",
      "Iteration 8, inertia 5877.859380534989\n",
      "Iteration 9, inertia 5861.404724915657\n",
      "Iteration 10, inertia 5855.969828120109\n",
      "Iteration 11, inertia 5855.06633514172\n"
     ]
    },
    {
     "name": "stdout",
     "output_type": "stream",
     "text": [
      "Iteration 12, inertia 5854.639981185911\n",
      "Iteration 13, inertia 5854.511341731038\n",
      "Converged at iteration 13: center shift 1.5524775192747415e-05 within tolerance 0.00010000000000000052.\n",
      "Initialization complete\n",
      "Iteration 0, inertia 11012.985478015426\n",
      "Iteration 1, inertia 6050.725782913853\n",
      "Iteration 2, inertia 5860.251306899379\n",
      "Iteration 3, inertia 5855.912045992753\n",
      "Iteration 4, inertia 5854.9075402703875\n",
      "Iteration 5, inertia 5854.586954517197\n",
      "Converged at iteration 5: center shift 2.4126137875003358e-05 within tolerance 0.00010000000000000052.\n",
      "Initialization complete\n",
      "Iteration 0, inertia 6425.424422607425\n",
      "Iteration 1, inertia 4813.97876515935\n",
      "Iteration 2, inertia 4593.584350559785\n",
      "Iteration 3, inertia 4517.720154681414\n",
      "Iteration 4, inertia 4475.965012259814\n",
      "Iteration 5, inertia 4444.368104734049\n",
      "Iteration 6, inertia 4418.419738210664\n",
      "Iteration 7, inertia 4402.959931654201\n",
      "Iteration 8, inertia 4391.878535820256\n",
      "Iteration 9, inertia 4382.840363253038\n",
      "Iteration 10, inertia 4378.461302551836\n",
      "Iteration 11, inertia 4377.287307647986\n",
      "Iteration 12, inertia 4376.792822252181\n",
      "Converged at iteration 12: center shift 8.358155493862232e-05 within tolerance 0.00010000000000000052.\n",
      "Initialization complete\n",
      "Iteration 0, inertia 5509.888678161334\n",
      "Iteration 1, inertia 4475.53076735272\n",
      "Iteration 2, inertia 4410.932454908641\n",
      "Iteration 3, inertia 4395.91872818464\n",
      "Iteration 4, inertia 4387.46809257453\n",
      "Iteration 5, inertia 4382.259067135572\n",
      "Iteration 6, inertia 4379.648008004021\n",
      "Iteration 7, inertia 4378.606070906844\n",
      "Converged at iteration 7: center shift 7.158199739974985e-05 within tolerance 0.00010000000000000052.\n",
      "Initialization complete\n",
      "Iteration 0, inertia 6112.707995266275\n",
      "Iteration 1, inertia 4720.067683298862\n",
      "Iteration 2, inertia 4488.137709465717\n",
      "Iteration 3, inertia 4433.070728066085\n",
      "Iteration 4, inertia 4410.95898160335\n",
      "Iteration 5, inertia 4399.987283210115\n",
      "Iteration 6, inertia 4391.745429608218\n",
      "Iteration 7, inertia 4384.812055041997\n",
      "Iteration 8, inertia 4381.383805694698\n",
      "Iteration 9, inertia 4379.04577792819\n",
      "Iteration 10, inertia 4378.5147672463145\n",
      "Converged at iteration 10: center shift 1.8921609452534985e-05 within tolerance 0.00010000000000000052.\n",
      "Initialization complete\n",
      "Iteration 0, inertia 6008.113554732831\n",
      "Iteration 1, inertia 5331.438705459312\n",
      "Iteration 2, inertia 5260.909647685056\n",
      "Iteration 3, inertia 5229.7399537064575\n",
      "Iteration 4, inertia 5215.3026540716955\n",
      "Iteration 5, inertia 5209.41574464212\n",
      "Iteration 6, inertia 5206.070117155947\n",
      "Iteration 7, inertia 5204.930134288279\n",
      "Iteration 8, inertia 5204.466131060942\n",
      "Converged at iteration 8: center shift 3.879113047376044e-05 within tolerance 0.00010000000000000052.\n",
      "Initialization complete\n",
      "Iteration 0, inertia 6612.548158898398\n",
      "Iteration 1, inertia 4535.989299738436\n",
      "Iteration 2, inertia 4437.450760040716\n",
      "Iteration 3, inertia 4404.281506372045\n",
      "Iteration 4, inertia 4392.758739054621\n",
      "Iteration 5, inertia 4385.329766919278\n",
      "Iteration 6, inertia 4380.183444090017\n",
      "Iteration 7, inertia 4377.844089043791\n",
      "Iteration 8, inertia 4376.960104563076\n",
      "Iteration 9, inertia 4376.783814543939\n",
      "Converged at iteration 9: center shift 7.449787339277469e-05 within tolerance 0.00010000000000000052.\n",
      "Initialization complete\n",
      "Iteration 0, inertia 7108.844764394531\n",
      "Iteration 1, inertia 4677.913672480204\n",
      "Iteration 2, inertia 4538.466618502443\n",
      "Iteration 3, inertia 4471.900184102679\n",
      "Iteration 4, inertia 4425.747553264023\n",
      "Iteration 5, inertia 4403.219539682464\n",
      "Iteration 6, inertia 4389.3489355632355\n",
      "Iteration 7, inertia 4380.748158514644\n",
      "Iteration 8, inertia 4377.8499637568375\n",
      "Iteration 9, inertia 4377.018238595229\n",
      "Iteration 10, inertia 4376.783814543939\n",
      "Converged at iteration 10: center shift 7.449787339278568e-05 within tolerance 0.00010000000000000052.\n",
      "Initialization complete\n",
      "Iteration 0, inertia 5847.124716501627\n",
      "Iteration 1, inertia 4410.494224128234\n",
      "Iteration 2, inertia 4380.891162822273\n",
      "Iteration 3, inertia 4378.646944360026\n",
      "Converged at iteration 3: center shift 3.3176495314179885e-05 within tolerance 0.00010000000000000052.\n",
      "Initialization complete\n",
      "Iteration 0, inertia 5598.847965204518\n",
      "Iteration 1, inertia 4502.461363300322\n",
      "Iteration 2, inertia 4393.3490161768195\n",
      "Iteration 3, inertia 4380.6441240653585\n",
      "Iteration 4, inertia 4377.910110093777\n",
      "Iteration 5, inertia 4376.840243554315\n",
      "Iteration 6, inertia 4376.7236396880435\n",
      "Iteration 7, inertia 4376.670052367937\n",
      "Converged at iteration 7: center shift 1.535632366607425e-06 within tolerance 0.00010000000000000052.\n",
      "Initialization complete\n",
      "Iteration 0, inertia 4866.955945494506\n",
      "Iteration 1, inertia 4475.340449292812\n",
      "Iteration 2, inertia 4418.641165307406\n",
      "Iteration 3, inertia 4403.026841305929\n",
      "Iteration 4, inertia 4393.84255992353\n",
      "Iteration 5, inertia 4386.324211371955\n",
      "Iteration 6, inertia 4381.685569990986\n",
      "Iteration 7, inertia 4379.130689269511\n",
      "Iteration 8, inertia 4378.5147672463145\n",
      "Converged at iteration 8: center shift 1.89216094525357e-05 within tolerance 0.00010000000000000052.\n",
      "Initialization complete\n",
      "Iteration 0, inertia 6891.405610450652\n",
      "Iteration 1, inertia 5294.9252673128885\n",
      "Iteration 2, inertia 5242.301507842622\n",
      "Iteration 3, inertia 5219.152208952467\n",
      "Iteration 4, inertia 5212.151706934984\n",
      "Iteration 5, inertia 5207.975030976865\n",
      "Iteration 6, inertia 5205.612021195038\n",
      "Iteration 7, inertia 5204.843225366904\n",
      "Iteration 8, inertia 5204.451784372781\n",
      "Converged at iteration 8: center shift 1.473196811177859e-05 within tolerance 0.00010000000000000052.\n",
      "Initialization complete\n",
      "Iteration 0, inertia 4996.299607714893\n",
      "Iteration 1, inertia 3892.343830048358\n",
      "Iteration 2, inertia 3739.177116531379\n",
      "Iteration 3, inertia 3679.0583622842096\n",
      "Iteration 4, inertia 3666.886198404204\n",
      "Iteration 5, inertia 3663.1372475387366\n",
      "Iteration 6, inertia 3662.390325834813\n",
      "Iteration 7, inertia 3662.247527488075\n",
      "Converged at iteration 7: center shift 7.966667226099656e-06 within tolerance 0.00010000000000000052.\n",
      "Initialization complete\n",
      "Iteration 0, inertia 4611.7021134535\n",
      "Iteration 1, inertia 3994.379804625396\n",
      "Iteration 2, inertia 3910.2171356089116\n",
      "Iteration 3, inertia 3862.071412944571\n",
      "Iteration 4, inertia 3832.6701305254155\n",
      "Iteration 5, inertia 3812.5980380858387\n",
      "Iteration 6, inertia 3801.635956830445\n",
      "Iteration 7, inertia 3796.087751796122\n",
      "Iteration 8, inertia 3791.2514501369405\n",
      "Iteration 9, inertia 3787.5397289278353\n",
      "Iteration 10, inertia 3786.1515334330265\n",
      "Iteration 11, inertia 3785.670009693845\n",
      "Iteration 12, inertia 3785.5584851750314\n",
      "Converged at iteration 12: center shift 1.1253575745683207e-05 within tolerance 0.00010000000000000052.\n",
      "Initialization complete\n",
      "Iteration 0, inertia 5722.117142781645\n",
      "Iteration 1, inertia 3804.9088705848326\n",
      "Iteration 2, inertia 3700.137931959932\n",
      "Iteration 3, inertia 3683.423653945985\n",
      "Iteration 4, inertia 3678.079767997423\n",
      "Iteration 5, inertia 3674.004807775358\n",
      "Iteration 6, inertia 3668.6751039604274\n",
      "Iteration 7, inertia 3666.1295046978207\n",
      "Iteration 8, inertia 3663.8533530084324\n",
      "Iteration 9, inertia 3662.6485944993033\n",
      "Iteration 10, inertia 3662.45794725431\n",
      "Iteration 11, inertia 3662.2713503244195\n",
      "Iteration 12, inertia 3662.21206974289\n",
      "Converged at iteration 12: center shift 1.4923028243074884e-06 within tolerance 0.00010000000000000052.\n",
      "Initialization complete\n",
      "Iteration 0, inertia 5824.364759644097\n",
      "Iteration 1, inertia 4051.507063135146\n",
      "Iteration 2, inertia 3918.352722258299\n",
      "Iteration 3, inertia 3858.2031430332595\n",
      "Iteration 4, inertia 3819.836962226315\n",
      "Iteration 5, inertia 3795.9551138097427\n",
      "Iteration 6, inertia 3778.780577948039\n",
      "Iteration 7, inertia 3755.8055162296387\n",
      "Iteration 8, inertia 3737.2312219037644\n",
      "Iteration 9, inertia 3727.5185151833807\n",
      "Iteration 10, inertia 3723.316868390676\n",
      "Iteration 11, inertia 3720.5416813630277\n",
      "Iteration 12, inertia 3716.3878663934265\n",
      "Iteration 13, inertia 3711.5196614051156\n",
      "Iteration 14, inertia 3708.512130367577\n",
      "Iteration 15, inertia 3703.2997001654962\n",
      "Iteration 16, inertia 3698.7546623329254\n",
      "Iteration 17, inertia 3696.4785302703394\n",
      "Iteration 18, inertia 3693.711687829151\n",
      "Iteration 19, inertia 3689.6999115394165\n",
      "Iteration 20, inertia 3683.2602971858773\n",
      "Iteration 21, inertia 3679.4057866308062\n",
      "Iteration 22, inertia 3676.4532666317314\n",
      "Iteration 23, inertia 3672.600836992783\n",
      "Iteration 24, inertia 3670.6610250341932\n",
      "Iteration 25, inertia 3670.1069654036996\n",
      "Iteration 26, inertia 3670.061143706925\n",
      "Iteration 27, inertia 3670.027367644482\n",
      "Converged at iteration 27: center shift 9.413690093078711e-07 within tolerance 0.00010000000000000052.\n",
      "Initialization complete\n",
      "Iteration 0, inertia 4484.573360039201\n",
      "Iteration 1, inertia 3929.8595873813456\n",
      "Iteration 2, inertia 3889.9536826823924\n",
      "Iteration 3, inertia 3873.81204046225\n",
      "Iteration 4, inertia 3862.5050638880634\n",
      "Iteration 5, inertia 3852.42806838301\n",
      "Iteration 6, inertia 3839.7682818748276\n",
      "Iteration 7, inertia 3820.8605946567563\n",
      "Iteration 8, inertia 3806.0105090234174\n",
      "Iteration 9, inertia 3792.263481334456\n",
      "Iteration 10, inertia 3777.5679486511367\n",
      "Iteration 11, inertia 3755.0355319013283\n",
      "Iteration 12, inertia 3736.8764826778706\n",
      "Iteration 13, inertia 3720.9647116879123\n",
      "Iteration 14, inertia 3708.1034010228864\n",
      "Iteration 15, inertia 3699.791462155888\n",
      "Iteration 16, inertia 3694.2100371821507\n",
      "Iteration 17, inertia 3688.840133111774\n",
      "Iteration 18, inertia 3680.99329499422\n",
      "Iteration 19, inertia 3675.423204282241\n",
      "Iteration 20, inertia 3671.877718789862\n",
      "Iteration 21, inertia 3669.582226854651\n",
      "Iteration 22, inertia 3668.0153731287514\n",
      "Iteration 23, inertia 3666.8192261208233\n",
      "Iteration 24, inertia 3664.6349406308436\n",
      "Iteration 25, inertia 3663.14701706834\n",
      "Iteration 26, inertia 3662.759800823037\n",
      "Iteration 27, inertia 3662.5498858247347\n",
      "Iteration 28, inertia 3662.3589651406533\n",
      "Converged at iteration 28: center shift 1.5117914227982609e-05 within tolerance 0.00010000000000000052.\n",
      "Initialization complete\n",
      "Iteration 0, inertia 5044.4261690556095\n",
      "Iteration 1, inertia 3847.0441270898605\n",
      "Iteration 2, inertia 3711.853942884795\n",
      "Iteration 3, inertia 3676.6306160171875\n",
      "Iteration 4, inertia 3667.512433122364\n",
      "Iteration 5, inertia 3663.9094503886886\n",
      "Iteration 6, inertia 3662.5761376076916\n",
      "Iteration 7, inertia 3662.2245388149095\n",
      "Converged at iteration 7: center shift 4.49118684657605e-06 within tolerance 0.00010000000000000052.\n",
      "Initialization complete\n",
      "Iteration 0, inertia 4477.706760967913\n",
      "Iteration 1, inertia 3975.2189949530903\n",
      "Iteration 2, inertia 3937.850769146487\n",
      "Iteration 3, inertia 3923.113700873916\n",
      "Iteration 4, inertia 3911.8040353738306\n",
      "Iteration 5, inertia 3905.670162206423\n",
      "Iteration 6, inertia 3901.734122024748\n",
      "Iteration 7, inertia 3899.8141313873402\n",
      "Iteration 8, inertia 3898.723794797098\n",
      "Iteration 9, inertia 3896.740513711334\n",
      "Iteration 10, inertia 3892.930188203362\n",
      "Iteration 11, inertia 3885.6368176777546\n",
      "Iteration 12, inertia 3868.4372630737203\n",
      "Iteration 13, inertia 3851.666852671291\n",
      "Iteration 14, inertia 3821.631814814661\n",
      "Iteration 15, inertia 3788.884139407788\n",
      "Iteration 16, inertia 3768.9399898015968\n",
      "Iteration 17, inertia 3745.234888242399\n",
      "Iteration 18, inertia 3730.403331897936\n",
      "Iteration 19, inertia 3725.235613961824\n",
      "Iteration 20, inertia 3722.401536703942\n",
      "Iteration 21, inertia 3718.060383204668\n",
      "Iteration 22, inertia 3713.516754789958\n",
      "Iteration 23, inertia 3707.5980901988523\n",
      "Iteration 24, inertia 3703.2668670772405\n",
      "Iteration 25, inertia 3698.971042323858\n",
      "Iteration 26, inertia 3696.4785302703385\n",
      "Iteration 27, inertia 3693.7116878291504\n",
      "Iteration 28, inertia 3689.6999115394165\n",
      "Iteration 29, inertia 3683.2602971858773\n",
      "Iteration 30, inertia 3679.405786630807\n",
      "Iteration 31, inertia 3676.4532666317314\n",
      "Iteration 32, inertia 3672.6008369927836\n",
      "Iteration 33, inertia 3670.661025034193\n",
      "Iteration 34, inertia 3670.1069654036996\n",
      "Iteration 35, inertia 3670.061143706925\n",
      "Iteration 36, inertia 3670.027367644482\n",
      "Converged at iteration 36: center shift 9.413690093075073e-07 within tolerance 0.00010000000000000052.\n",
      "Initialization complete\n",
      "Iteration 0, inertia 5441.717552754458\n",
      "Iteration 1, inertia 4322.4156074654275\n",
      "Iteration 2, inertia 3934.034861614998\n",
      "Iteration 3, inertia 3837.9967650136696\n",
      "Iteration 4, inertia 3791.3603695190004\n",
      "Iteration 5, inertia 3766.5790448417492\n",
      "Iteration 6, inertia 3745.7034260513938\n",
      "Iteration 7, inertia 3732.5199160321376\n",
      "Iteration 8, inertia 3725.4094636240293\n",
      "Iteration 9, inertia 3721.2115100998603\n",
      "Iteration 10, inertia 3715.1569425799994\n",
      "Iteration 11, inertia 3705.3506701219712\n",
      "Iteration 12, inertia 3699.0667577132576\n",
      "Iteration 13, inertia 3695.9822906229597\n",
      "Iteration 14, inertia 3693.6536886399253\n",
      "Iteration 15, inertia 3689.0568491986364\n",
      "Iteration 16, inertia 3680.851588987174\n",
      "Iteration 17, inertia 3678.4574280614056\n",
      "Iteration 18, inertia 3673.722538971093\n",
      "Iteration 19, inertia 3670.904040135181\n",
      "Iteration 20, inertia 3670.1069654036996\n",
      "Iteration 21, inertia 3670.0611437069247\n",
      "Iteration 22, inertia 3670.0273676444826\n",
      "Converged at iteration 22: center shift 9.413690093077833e-07 within tolerance 0.00010000000000000052.\n",
      "Initialization complete\n",
      "Iteration 0, inertia 4533.109944164408\n",
      "Iteration 1, inertia 3844.636586997176\n",
      "Iteration 2, inertia 3763.3701936096786\n",
      "Iteration 3, inertia 3722.9830400106407\n",
      "Iteration 4, inertia 3699.2452413209826\n",
      "Iteration 5, inertia 3683.4607462260983\n",
      "Iteration 6, inertia 3678.8929660224326\n",
      "Iteration 7, inertia 3674.2307625922626\n",
      "Iteration 8, inertia 3670.179050217218\n",
      "Iteration 9, inertia 3667.349697555689\n",
      "Iteration 10, inertia 3665.3903811204973\n",
      "Iteration 11, inertia 3663.9676818420344\n",
      "Iteration 12, inertia 3663.1280463436037\n",
      "Iteration 13, inertia 3662.4251578945814\n",
      "Iteration 14, inertia 3662.3519905356884\n",
      "Converged at iteration 14: center shift 8.861781377592668e-06 within tolerance 0.00010000000000000052.\n",
      "Initialization complete\n",
      "Iteration 0, inertia 4563.725695891979\n",
      "Iteration 1, inertia 4068.308003502249\n",
      "Iteration 2, inertia 3964.526072632056\n",
      "Iteration 3, inertia 3922.057207881117\n",
      "Iteration 4, inertia 3899.937032000047\n",
      "Iteration 5, inertia 3882.428915433946\n",
      "Iteration 6, inertia 3868.5935928081835\n",
      "Iteration 7, inertia 3861.8406635416413\n",
      "Iteration 8, inertia 3848.4441648202196\n",
      "Iteration 9, inertia 3833.965295405569\n",
      "Iteration 10, inertia 3815.694570285334\n",
      "Iteration 11, inertia 3801.7086834288957\n",
      "Iteration 12, inertia 3790.156217277614\n",
      "Iteration 13, inertia 3775.9694934331146\n",
      "Iteration 14, inertia 3754.0178181988813\n",
      "Iteration 15, inertia 3734.52812075164\n",
      "Iteration 16, inertia 3719.120554592422\n",
      "Iteration 17, inertia 3706.104884468724\n",
      "Iteration 18, inertia 3697.944819198411\n",
      "Iteration 19, inertia 3692.4430920523073\n",
      "Iteration 20, inertia 3683.4404377496703\n",
      "Iteration 21, inertia 3677.8447505580907\n",
      "Iteration 22, inertia 3673.2300153862107\n",
      "Iteration 23, inertia 3670.7081291994505\n"
     ]
    },
    {
     "name": "stdout",
     "output_type": "stream",
     "text": [
      "Iteration 24, inertia 3668.3166779140965\n",
      "Iteration 25, inertia 3667.021445017368\n",
      "Iteration 26, inertia 3665.28880961614\n",
      "Iteration 27, inertia 3663.3404212197283\n",
      "Iteration 28, inertia 3662.798379681299\n",
      "Iteration 29, inertia 3662.576560031986\n",
      "Iteration 30, inertia 3662.4017342068328\n",
      "Converged at iteration 30: center shift 9.22265205416672e-05 within tolerance 0.00010000000000000052.\n",
      "Initialization complete\n",
      "Iteration 0, inertia 4437.435598338474\n",
      "Iteration 1, inertia 3684.552225404505\n",
      "Iteration 2, inertia 3546.0007327931494\n",
      "Iteration 3, inertia 3460.419922017354\n",
      "Iteration 4, inertia 3398.919083723461\n",
      "Iteration 5, inertia 3360.2699087047017\n",
      "Iteration 6, inertia 3326.0877539675284\n",
      "Iteration 7, inertia 3292.0408341452003\n",
      "Iteration 8, inertia 3259.091527069704\n",
      "Iteration 9, inertia 3241.326473288878\n",
      "Iteration 10, inertia 3229.4445790743266\n",
      "Iteration 11, inertia 3213.4497379084346\n",
      "Iteration 12, inertia 3193.8979346994715\n",
      "Iteration 13, inertia 3167.2879876502975\n",
      "Iteration 14, inertia 3143.5330150211844\n",
      "Iteration 15, inertia 3129.1288364561815\n",
      "Iteration 16, inertia 3119.0249640456964\n",
      "Iteration 17, inertia 3109.7537086562907\n",
      "Iteration 18, inertia 3099.2499370328783\n",
      "Iteration 19, inertia 3094.1297904091684\n",
      "Iteration 20, inertia 3090.3724481882\n",
      "Iteration 21, inertia 3086.3455284050524\n",
      "Iteration 22, inertia 3082.944347564872\n",
      "Iteration 23, inertia 3080.4262954416167\n",
      "Iteration 24, inertia 3079.5957182955663\n",
      "Iteration 25, inertia 3079.2694324352083\n",
      "Converged at iteration 25: center shift 9.069572570631894e-05 within tolerance 0.00010000000000000052.\n",
      "Initialization complete\n",
      "Iteration 0, inertia 4353.06515499648\n",
      "Iteration 1, inertia 3444.267761264752\n",
      "Iteration 2, inertia 3355.303101477695\n",
      "Iteration 3, inertia 3317.6167845849227\n",
      "Iteration 4, inertia 3297.9308673932255\n",
      "Iteration 5, inertia 3282.773307861402\n",
      "Iteration 6, inertia 3270.7380695295815\n",
      "Iteration 7, inertia 3261.131285456687\n",
      "Iteration 8, inertia 3256.0491809102614\n",
      "Iteration 9, inertia 3253.66709308893\n",
      "Iteration 10, inertia 3251.6849483930464\n",
      "Iteration 11, inertia 3250.1938973305873\n",
      "Iteration 12, inertia 3249.9013690130737\n",
      "Iteration 13, inertia 3249.8037219021367\n",
      "Converged at iteration 13: center shift 2.307036520360926e-05 within tolerance 0.00010000000000000052.\n",
      "Initialization complete\n",
      "Iteration 0, inertia 4328.710535938622\n",
      "Iteration 1, inertia 3315.7351193054255\n",
      "Iteration 2, inertia 3247.629396916491\n",
      "Iteration 3, inertia 3217.9977440142807\n",
      "Iteration 4, inertia 3189.1937447393416\n",
      "Iteration 5, inertia 3163.666750830255\n",
      "Iteration 6, inertia 3142.791261063583\n",
      "Iteration 7, inertia 3128.416842027137\n",
      "Iteration 8, inertia 3118.2262820490528\n",
      "Iteration 9, inertia 3109.8712158040216\n",
      "Iteration 10, inertia 3099.285042152467\n",
      "Iteration 11, inertia 3094.119683190696\n",
      "Iteration 12, inertia 3090.364033559543\n",
      "Iteration 13, inertia 3086.3392098514464\n",
      "Iteration 14, inertia 3082.9372379137085\n",
      "Iteration 15, inertia 3080.4125234002067\n",
      "Iteration 16, inertia 3079.56247116156\n",
      "Iteration 17, inertia 3079.240773882738\n",
      "Converged at iteration 17: center shift 8.111025244258021e-05 within tolerance 0.00010000000000000052.\n",
      "Initialization complete\n",
      "Iteration 0, inertia 4298.423816154055\n",
      "Iteration 1, inertia 3664.997475344017\n",
      "Iteration 2, inertia 3426.2744715088093\n",
      "Iteration 3, inertia 3282.319853047105\n",
      "Iteration 4, inertia 3224.0903674142482\n",
      "Iteration 5, inertia 3183.439397821574\n",
      "Iteration 6, inertia 3157.539140139669\n",
      "Iteration 7, inertia 3141.4117666143807\n",
      "Iteration 8, inertia 3131.1947866774663\n",
      "Iteration 9, inertia 3123.7874278304666\n",
      "Iteration 10, inertia 3119.2130573792656\n",
      "Iteration 11, inertia 3117.3746747767636\n",
      "Iteration 12, inertia 3116.037980443474\n",
      "Iteration 13, inertia 3112.8997351474845\n",
      "Iteration 14, inertia 3110.7210920992457\n",
      "Iteration 15, inertia 3107.0961443188294\n",
      "Iteration 16, inertia 3101.0330487759443\n",
      "Iteration 17, inertia 3096.073115883988\n",
      "Iteration 18, inertia 3092.727746612886\n",
      "Iteration 19, inertia 3088.861431476073\n",
      "Iteration 20, inertia 3087.266603617797\n",
      "Iteration 21, inertia 3087.044009795718\n",
      "Iteration 22, inertia 3086.931540076452\n",
      "Iteration 23, inertia 3086.8664536093897\n",
      "Iteration 24, inertia 3086.7925455451305\n",
      "Iteration 25, inertia 3086.673025242793\n",
      "Iteration 26, inertia 3086.4012170158176\n",
      "Iteration 27, inertia 3085.9516492225866\n",
      "Iteration 28, inertia 3085.3170682921846\n",
      "Iteration 29, inertia 3084.8447622474787\n",
      "Iteration 30, inertia 3082.73635605042\n",
      "Iteration 31, inertia 3080.559206646509\n",
      "Iteration 32, inertia 3079.478842932987\n",
      "Iteration 33, inertia 3079.3794735989873\n",
      "Iteration 34, inertia 3079.229870315417\n",
      "Iteration 35, inertia 3079.003650225981\n",
      "Converged at iteration 35: strict convergence.\n",
      "Initialization complete\n",
      "Iteration 0, inertia 5100.614037315335\n",
      "Iteration 1, inertia 4097.306465494573\n",
      "Iteration 2, inertia 3915.6093297582875\n",
      "Iteration 3, inertia 3742.9474807927168\n",
      "Iteration 4, inertia 3542.138667167475\n",
      "Iteration 5, inertia 3385.4104026754926\n",
      "Iteration 6, inertia 3302.4655603815154\n",
      "Iteration 7, inertia 3272.4597130940456\n",
      "Iteration 8, inertia 3257.9278741718267\n",
      "Iteration 9, inertia 3249.9116491271543\n",
      "Iteration 10, inertia 3247.334962729847\n",
      "Iteration 11, inertia 3246.188161782701\n",
      "Iteration 12, inertia 3245.4559069209686\n",
      "Iteration 13, inertia 3245.0283050710655\n",
      "Iteration 14, inertia 3244.72255219281\n",
      "Converged at iteration 14: center shift 1.0368150227641384e-05 within tolerance 0.00010000000000000052.\n",
      "Initialization complete\n",
      "Iteration 0, inertia 4257.9035126915605\n",
      "Iteration 1, inertia 3530.6242966871164\n",
      "Iteration 2, inertia 3399.040538017193\n",
      "Iteration 3, inertia 3342.4636867673694\n",
      "Iteration 4, inertia 3306.902640087863\n",
      "Iteration 5, inertia 3287.605065312637\n",
      "Iteration 6, inertia 3280.379322940154\n",
      "Iteration 7, inertia 3276.198834008019\n",
      "Iteration 8, inertia 3274.796303170876\n",
      "Iteration 9, inertia 3272.096077126663\n",
      "Iteration 10, inertia 3268.1577279798285\n",
      "Iteration 11, inertia 3265.3017050135863\n",
      "Iteration 12, inertia 3263.5131701705636\n",
      "Iteration 13, inertia 3261.992460706079\n",
      "Iteration 14, inertia 3260.923181407196\n",
      "Iteration 15, inertia 3260.1585133367225\n",
      "Iteration 16, inertia 3260.059144883148\n",
      "Converged at iteration 16: center shift 5.714957736466839e-05 within tolerance 0.00010000000000000052.\n",
      "Initialization complete\n",
      "Iteration 0, inertia 4499.410003647152\n",
      "Iteration 1, inertia 3308.7424910821173\n",
      "Iteration 2, inertia 3165.5762881309724\n",
      "Iteration 3, inertia 3122.3152093286485\n",
      "Iteration 4, inertia 3108.210972085202\n",
      "Iteration 5, inertia 3099.6749000403447\n",
      "Iteration 6, inertia 3093.234449485843\n",
      "Iteration 7, inertia 3088.438498731955\n",
      "Iteration 8, inertia 3084.6816377901946\n",
      "Iteration 9, inertia 3082.5214447500857\n",
      "Iteration 10, inertia 3080.625844127427\n",
      "Iteration 11, inertia 3079.803703255977\n",
      "Iteration 12, inertia 3079.5869014227364\n",
      "Iteration 13, inertia 3079.395771277183\n",
      "Iteration 14, inertia 3079.0536121226046\n",
      "Iteration 15, inertia 3079.0145110488706\n",
      "Converged at iteration 15: center shift 3.0347742438770077e-06 within tolerance 0.00010000000000000052.\n",
      "Initialization complete\n",
      "Iteration 0, inertia 4932.0505915913955\n",
      "Iteration 1, inertia 3744.4769210005866\n",
      "Iteration 2, inertia 3590.2582684259464\n",
      "Iteration 3, inertia 3430.6029373602482\n",
      "Iteration 4, inertia 3247.411737340223\n",
      "Iteration 5, inertia 3146.4473828712703\n",
      "Iteration 6, inertia 3106.266462410776\n",
      "Iteration 7, inertia 3093.5481757053712\n",
      "Iteration 8, inertia 3088.4257216458127\n",
      "Iteration 9, inertia 3084.3314071117024\n",
      "Iteration 10, inertia 3081.247888816808\n",
      "Iteration 11, inertia 3079.81202619209\n",
      "Iteration 12, inertia 3079.306333833551\n",
      "Iteration 13, inertia 3079.206908936443\n",
      "Converged at iteration 13: center shift 8.699741742900519e-05 within tolerance 0.00010000000000000052.\n",
      "Initialization complete\n",
      "Iteration 0, inertia 4442.593100780852\n",
      "Iteration 1, inertia 3357.00385759477\n",
      "Iteration 2, inertia 3210.7075976732262\n",
      "Iteration 3, inertia 3147.303712698129\n",
      "Iteration 4, inertia 3122.9732135298927\n",
      "Iteration 5, inertia 3110.8036674847012\n",
      "Iteration 6, inertia 3102.742803735883\n",
      "Iteration 7, inertia 3095.2569768980334\n",
      "Iteration 8, inertia 3091.9095362958906\n",
      "Iteration 9, inertia 3088.0042853283458\n",
      "Iteration 10, inertia 3084.4451602776962\n",
      "Iteration 11, inertia 3081.3438413032795\n",
      "Iteration 12, inertia 3079.9129203683124\n",
      "Iteration 13, inertia 3079.312072117047\n",
      "Iteration 14, inertia 3079.206744083784\n",
      "Converged at iteration 14: center shift 8.680661035897739e-05 within tolerance 0.00010000000000000052.\n",
      "Initialization complete\n",
      "Iteration 0, inertia 4725.936046307779\n",
      "Iteration 1, inertia 3627.3832588509244\n",
      "Iteration 2, inertia 3468.1616284848137\n",
      "Iteration 3, inertia 3413.768641085229\n",
      "Iteration 4, inertia 3372.316267187361\n",
      "Iteration 5, inertia 3337.260299572583\n",
      "Iteration 6, inertia 3306.388309812335\n",
      "Iteration 7, inertia 3276.1386720043747\n",
      "Iteration 8, inertia 3232.6112274980305\n",
      "Iteration 9, inertia 3178.4165961334425\n",
      "Iteration 10, inertia 3134.299217255986\n",
      "Iteration 11, inertia 3113.0582478459937\n",
      "Iteration 12, inertia 3098.745464600786\n",
      "Iteration 13, inertia 3090.690741464118\n",
      "Iteration 14, inertia 3084.716039665749\n",
      "Iteration 15, inertia 3081.7156663997316\n",
      "Iteration 16, inertia 3079.654156952359\n",
      "Iteration 17, inertia 3079.2810041492085\n",
      "Iteration 18, inertia 3079.193986745605\n",
      "Converged at iteration 18: center shift 7.453221432967533e-05 within tolerance 0.00010000000000000052.\n"
     ]
    }
   ],
   "source": [
    "score=[]\n",
    "for i in range (2,7):\n",
    "    kmeans=KMeans (n_clusters=i, max_iter=50, verbose=True).  fit(scaled)\n",
    "    score.append(kmeans.inertia_)"
   ]
  },
  {
   "cell_type": "code",
   "execution_count": 28,
   "id": "1729d072",
   "metadata": {
    "id": "1729d072",
    "outputId": "b33f5f1c-5591-4d7b-c6e5-2ab54e901670"
   },
   "outputs": [
    {
     "data": {
      "text/plain": [
       "5"
      ]
     },
     "execution_count": 28,
     "metadata": {},
     "output_type": "execute_result"
    }
   ],
   "source": [
    "len(score)"
   ]
  },
  {
   "cell_type": "code",
   "execution_count": 29,
   "id": "e78dcb86",
   "metadata": {
    "id": "e78dcb86",
    "outputId": "0a49ef4e-5998-4ebe-9608-9542df87eba8"
   },
   "outputs": [
    {
     "data": {
      "image/png": "[encoded data removed]",
      "text/plain": [
       "<Figure size 720x576 with 1 Axes>"
      ]
     },
     "metadata": {
      "needs_background": "light"
     },
     "output_type": "display_data"
    }
   ],
   "source": [
    "plt.plot(range(2,7,1), score)\n",
    "plt.xticks(ticks=range(2,7))\n",
    "plt.show()"
   ]
  },
  {
   "cell_type": "markdown",
   "id": "d19993b1",
   "metadata": {
    "id": "d19993b1"
   },
   "source": [
    "#### Calculate Silhouette Score"
   ]
  },
  {
   "cell_type": "markdown",
   "id": "91f75a45",
   "metadata": {
    "id": "91f75a45"
   },
   "source": [
    "<ul>\n",
    "    <li>The silhouette score measures the similarity an object is to its cluster compared to other clusters.</li><p>\n",
    "    <li>The silhouette ranges from −1 to +1, where a high value indicates that the object is well matched to its cluster and poorly matched to neighboring clusters</li> <p>\n",
    "    <li>If most objects have a high value, then the clustering configuration is appropriate. If many points have a low or negative value, then the clustering configuration may have too many or too few clusters</li>\n",
    "</ul>\n"
   ]
  },
  {
   "cell_type": "code",
   "execution_count": 30,
   "id": "5f9576bb",
   "metadata": {
    "id": "5f9576bb",
    "outputId": "7fb4f9ef-b6b1-4927-f57b-f5f537a9ca88"
   },
   "outputs": [
    {
     "name": "stdout",
     "output_type": "stream",
     "text": [
      "For n_cluster2 the silhouette score is 0.5485308609163347\n",
      "For n_cluster3 the silhouette score is 0.5004991432009669\n",
      "For n_cluster4 the silhouette score is 0.4957107935941256\n",
      "For n_cluster5 the silhouette score is 0.48985653459593365\n",
      "For n_cluster6 the silhouette score is 0.4462478973273721\n"
     ]
    }
   ],
   "source": [
    "for i in range (2,7):\n",
    "    kmeans = KMeans (n_clusters=i, max_iter=50).fit(scaled)\n",
    "    cluster_labels=kmeans.labels_\n",
    "    silhouette_avg=silhouette_score(scaled, cluster_labels)\n",
    "    print('For n_cluster{} the silhouette score is {}'.format(i, silhouette_avg))"
   ]
  },
  {
   "cell_type": "markdown",
   "id": "3a564e23",
   "metadata": {
    "id": "3a564e23"
   },
   "source": [
    "From the above elbow graphs and silhouette scores, it can be concluded that 3 is the ideal k value for number of clusters."
   ]
  },
  {
   "cell_type": "markdown",
   "id": "05d6a19c",
   "metadata": {
    "id": "05d6a19c"
   },
   "source": [
    "#### Build final model with k=3"
   ]
  },
  {
   "cell_type": "code",
   "execution_count": 31,
   "id": "577e5f8c",
   "metadata": {
    "id": "577e5f8c"
   },
   "outputs": [],
   "source": [
    "kmeans = KMeans(n_clusters=3, max_iter=50). fit(scaled)\n",
    "clusters = kmeans.labels_"
   ]
  },
  {
   "cell_type": "code",
   "execution_count": 32,
   "id": "7ffd4d92",
   "metadata": {
    "id": "7ffd4d92"
   },
   "outputs": [],
   "source": [
    "cust_details['Cluster']=clusters"
   ]
  },
  {
   "cell_type": "code",
   "execution_count": 33,
   "id": "8d45d32e",
   "metadata": {
    "id": "8d45d32e",
    "outputId": "09427da9-4a7e-401e-8f9b-f35dfc6449e3"
   },
   "outputs": [
    {
     "data": {
      "text/html": [
       "<div>\n",
       "<style scoped>\n",
       "    .dataframe tbody tr th:only-of-type {\n",
       "        vertical-align: middle;\n",
       "    }\n",
       "\n",
       "    .dataframe tbody tr th {\n",
       "        vertical-align: top;\n",
       "    }\n",
       "\n",
       "    .dataframe thead th {\n",
       "        text-align: right;\n",
       "    }\n",
       "</style>\n",
       "<table border=\"1\" class=\"dataframe\">\n",
       "  <thead>\n",
       "    <tr style=\"text-align: right;\">\n",
       "      <th></th>\n",
       "      <th>Customer ID</th>\n",
       "      <th>Amount</th>\n",
       "      <th>Frequency</th>\n",
       "      <th>Last Transaction</th>\n",
       "      <th>Cluster</th>\n",
       "    </tr>\n",
       "  </thead>\n",
       "  <tbody>\n",
       "    <tr>\n",
       "      <th>0</th>\n",
       "      <td>12346.0</td>\n",
       "      <td>-64.68</td>\n",
       "      <td>48</td>\n",
       "      <td>325</td>\n",
       "      <td>2</td>\n",
       "    </tr>\n",
       "    <tr>\n",
       "      <th>1</th>\n",
       "      <td>12347.0</td>\n",
       "      <td>5633.32</td>\n",
       "      <td>253</td>\n",
       "      <td>1</td>\n",
       "      <td>1</td>\n",
       "    </tr>\n",
       "    <tr>\n",
       "      <th>2</th>\n",
       "      <td>12348.0</td>\n",
       "      <td>2019.40</td>\n",
       "      <td>51</td>\n",
       "      <td>74</td>\n",
       "      <td>0</td>\n",
       "    </tr>\n",
       "    <tr>\n",
       "      <th>3</th>\n",
       "      <td>12349.0</td>\n",
       "      <td>4404.54</td>\n",
       "      <td>180</td>\n",
       "      <td>18</td>\n",
       "      <td>0</td>\n",
       "    </tr>\n",
       "    <tr>\n",
       "      <th>4</th>\n",
       "      <td>12350.0</td>\n",
       "      <td>334.40</td>\n",
       "      <td>17</td>\n",
       "      <td>309</td>\n",
       "      <td>2</td>\n",
       "    </tr>\n",
       "    <tr>\n",
       "      <th>...</th>\n",
       "      <td>...</td>\n",
       "      <td>...</td>\n",
       "      <td>...</td>\n",
       "      <td>...</td>\n",
       "      <td>...</td>\n",
       "    </tr>\n",
       "    <tr>\n",
       "      <th>5937</th>\n",
       "      <td>18283.0</td>\n",
       "      <td>2736.65</td>\n",
       "      <td>986</td>\n",
       "      <td>3</td>\n",
       "      <td>1</td>\n",
       "    </tr>\n",
       "    <tr>\n",
       "      <th>5938</th>\n",
       "      <td>18284.0</td>\n",
       "      <td>436.68</td>\n",
       "      <td>29</td>\n",
       "      <td>429</td>\n",
       "      <td>2</td>\n",
       "    </tr>\n",
       "    <tr>\n",
       "      <th>5939</th>\n",
       "      <td>18285.0</td>\n",
       "      <td>427.00</td>\n",
       "      <td>12</td>\n",
       "      <td>660</td>\n",
       "      <td>2</td>\n",
       "    </tr>\n",
       "    <tr>\n",
       "      <th>5940</th>\n",
       "      <td>18286.0</td>\n",
       "      <td>1188.43</td>\n",
       "      <td>70</td>\n",
       "      <td>476</td>\n",
       "      <td>2</td>\n",
       "    </tr>\n",
       "    <tr>\n",
       "      <th>5941</th>\n",
       "      <td>18287.0</td>\n",
       "      <td>4177.89</td>\n",
       "      <td>156</td>\n",
       "      <td>42</td>\n",
       "      <td>0</td>\n",
       "    </tr>\n",
       "  </tbody>\n",
       "</table>\n",
       "<p>5831 rows × 5 columns</p>\n",
       "</div>"
      ],
      "text/plain": [
       "      Customer ID   Amount  Frequency  Last Transaction  Cluster\n",
       "0         12346.0   -64.68         48               325        2\n",
       "1         12347.0  5633.32        253                 1        1\n",
       "2         12348.0  2019.40         51                74        0\n",
       "3         12349.0  4404.54        180                18        0\n",
       "4         12350.0   334.40         17               309        2\n",
       "...           ...      ...        ...               ...      ...\n",
       "5937      18283.0  2736.65        986                 3        1\n",
       "5938      18284.0   436.68         29               429        2\n",
       "5939      18285.0   427.00         12               660        2\n",
       "5940      18286.0  1188.43         70               476        2\n",
       "5941      18287.0  4177.89        156                42        0\n",
       "\n",
       "[5831 rows x 5 columns]"
      ]
     },
     "execution_count": 33,
     "metadata": {},
     "output_type": "execute_result"
    }
   ],
   "source": [
    "cust_details"
   ]
  },
  {
   "cell_type": "markdown",
   "id": "26ddeff9",
   "metadata": {
    "id": "26ddeff9"
   },
   "source": [
    "### Visualizations"
   ]
  },
  {
   "cell_type": "markdown",
   "id": "6f25fe8d",
   "metadata": {
    "id": "6f25fe8d"
   },
   "source": [
    "#### Clusters and their amount of money have spent"
   ]
  },
  {
   "cell_type": "code",
   "execution_count": 34,
   "id": "bc04c0b0",
   "metadata": {
    "id": "bc04c0b0",
    "outputId": "11ebec68-66a5-43bf-c34a-8ec28ed53021"
   },
   "outputs": [
    {
     "data": {
      "text/plain": [
       "<AxesSubplot:xlabel='Cluster', ylabel='Amount'>"
      ]
     },
     "execution_count": 34,
     "metadata": {},
     "output_type": "execute_result"
    },
    {
     "data": {
      "image/png": "[encoded data removed]",
      "text/plain": [
       "<Figure size 720x576 with 1 Axes>"
      ]
     },
     "metadata": {
      "needs_background": "light"
     },
     "output_type": "display_data"
    }
   ],
   "source": [
    "sns.boxplot(x='Cluster', y='Amount', data=cust_details)"
   ]
  },
  {
   "cell_type": "markdown",
   "id": "09d13061",
   "metadata": {
    "id": "09d13061"
   },
   "source": [
    "#### Clusters and their transaction frequency"
   ]
  },
  {
   "cell_type": "code",
   "execution_count": 35,
   "id": "ac3070b9",
   "metadata": {
    "id": "ac3070b9",
    "outputId": "cfc668e2-4ffb-47bc-ff71-18167a57b685"
   },
   "outputs": [
    {
     "data": {
      "text/plain": [
       "<AxesSubplot:xlabel='Cluster', ylabel='Frequency'>"
      ]
     },
     "execution_count": 35,
     "metadata": {},
     "output_type": "execute_result"
    },
    {
     "data": {
      "image/png": "[encoded data removed]",
      "text/plain": [
       "<Figure size 720x576 with 1 Axes>"
      ]
     },
     "metadata": {
      "needs_background": "light"
     },
     "output_type": "display_data"
    }
   ],
   "source": [
    "sns.boxplot(x='Cluster', y='Frequency', data=cust_details)"
   ]
  },
  {
   "cell_type": "markdown",
   "id": "736f6fb2",
   "metadata": {
    "id": "736f6fb2"
   },
   "source": [
    "#### Clusters and their last transaction activity"
   ]
  },
  {
   "cell_type": "code",
   "execution_count": 36,
   "id": "ea74cd3c",
   "metadata": {
    "id": "ea74cd3c",
    "outputId": "0e3a8176-643a-4f16-9e41-6fa045b1d906"
   },
   "outputs": [
    {
     "data": {
      "text/plain": [
       "<AxesSubplot:xlabel='Cluster', ylabel='Last Transaction'>"
      ]
     },
     "execution_count": 36,
     "metadata": {},
     "output_type": "execute_result"
    },
    {
     "data": {
      "image/png": "[encoded data removed]",
      "text/plain": [
       "<Figure size 720x576 with 1 Axes>"
      ]
     },
     "metadata": {
      "needs_background": "light"
     },
     "output_type": "display_data"
    }
   ],
   "source": [
    "sns.boxplot(x='Cluster', y='Last Transaction', data=cust_details)"
   ]
  },
  {
   "cell_type": "markdown",
   "id": "7fcda115",
   "metadata": {
    "id": "7fcda115"
   },
   "source": [
    "### Findings"
   ]
  },
  {
   "cell_type": "markdown",
   "id": "6f5ca38e",
   "metadata": {
    "id": "6f5ca38e"
   },
   "source": [
    "<ul>\n",
    "    <li>The are three clusters of customer based on their transaction history</li><p>\n",
    "    <li>The third cluster is the most promising market because the customers spent the most money and made the most transaction. Furthermore, the low last transaction number of this cluster indicates that the customers in this cluster possibly make another transaction sooner than the others</li> <p>\n",
    "        <li>The first cluster has pretty similar behaviours to the second cluster. However, this cluster can be concluded as a better cluster since the last transaction indicates that they made more recent transaction than the cluster two</li> <p>\n",
    "</ul>\n"
   ]
  }
 ],
 "metadata": {
  "colab": {
   "collapsed_sections": [
    "c1788400",
    "2b43448f",
    "9dff01db",
    "3050f4ee",
    "687bfb12",
    "d9e7fc87",
    "45af63e9",
    "0eeb4e13",
    "e4291f21",
    "d10e513e",
    "03fd70f2",
    "e42894a8",
    "d19993b1",
    "05d6a19c",
    "6f25fe8d",
    "09d13061",
    "736f6fb2",
    "7fcda115"
   ],
   "name": "Group 1 - Assignment 3.ipynb",
   "provenance": []
  },
  "kernelspec": {
   "display_name": "Python 3 (ipykernel)",
   "language": "python",
   "name": "python3"
  },
  "language_info": {
   "codemirror_mode": {
    "name": "ipython",
    "version": 3
   },
   "file_extension": ".py",
   "mimetype": "text/x-python",
   "name": "python",
   "nbconvert_exporter": "python",
   "pygments_lexer": "ipython3",
   "version": "3.9.7"
  }
 },
 "nbformat": 4,
 "nbformat_minor": 5
}
